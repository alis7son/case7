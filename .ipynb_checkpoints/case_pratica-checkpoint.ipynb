{
 "cells": [
  {
   "cell_type": "code",
   "execution_count": 1,
   "id": "dea9242e-b0e1-4d81-a9e7-2f4ba29c0d9c",
   "metadata": {},
   "outputs": [],
   "source": [
    "import pandas as pd\n",
    "import numpy as np\n",
    "import seaborn as sns\n",
    "import matplotlib.pyplot as plt\n",
    "import sqlite3"
   ]
  },
  {
   "cell_type": "markdown",
   "id": "2eedb79e-f7be-4c9a-9f4e-5437898e0a5c",
   "metadata": {},
   "source": [
    "### Acessando o banco de dados"
   ]
  },
  {
   "cell_type": "code",
   "execution_count": 2,
   "id": "cddea8b2-e8ee-4138-82d4-d80aeae553e7",
   "metadata": {},
   "outputs": [],
   "source": [
    "conn = sqlite3.connect(\"desafio-tecnico.db\")\n",
    "cursor = conn.cursor()"
   ]
  },
  {
   "cell_type": "code",
   "execution_count": 3,
   "id": "de878b07-ff02-418b-96df-0a56c4d12ffc",
   "metadata": {},
   "outputs": [
    {
     "data": {
      "text/plain": [
       "[('accounts',),\n",
       " ('address',),\n",
       " ('levels',),\n",
       " ('charges',),\n",
       " ('transactions',),\n",
       " ('transaction_type',)]"
      ]
     },
     "execution_count": 3,
     "metadata": {},
     "output_type": "execute_result"
    }
   ],
   "source": [
    "cursor.execute('SELECT name from sqlite_master where type= \"table\"')\n",
    "cursor.fetchall()"
   ]
  },
  {
   "cell_type": "markdown",
   "id": "9ded1c2e-9cfa-44f7-97d1-30c5889baee4",
   "metadata": {},
   "source": [
    "##### Consultando as tabelas e entendendo os relacionamentos"
   ]
  },
  {
   "cell_type": "code",
   "execution_count": 4,
   "id": "a5248dcf-45b1-4d92-974b-0cb45eb88865",
   "metadata": {},
   "outputs": [
    {
     "data": {
      "text/plain": [
       "[(1,\n",
       "  155938,\n",
       "  '1984-10-29',\n",
       "  'Outros',\n",
       "  'mariaceciliaazevedo042@example.com',\n",
       "  1,\n",
       "  '2021-04-01 02:30:00'),\n",
       " (2,\n",
       "  747007,\n",
       "  '1977-03-26',\n",
       "  'Corretor',\n",
       "  'ananunes3@example.com',\n",
       "  2,\n",
       "  '2021-04-01 02:00:00'),\n",
       " (3,\n",
       "  208404,\n",
       "  '1984-01-26',\n",
       "  'Analista',\n",
       "  'luizfernandovieira@example.com',\n",
       "  3,\n",
       "  '2021-04-01 11:30:00'),\n",
       " (4,\n",
       "  66402,\n",
       "  '1982-06-30',\n",
       "  'Investidor',\n",
       "  'gabriellynascimento6@example.com',\n",
       "  4,\n",
       "  '2021-04-01 14:30:00'),\n",
       " (5,\n",
       "  277012,\n",
       "  '1967-01-11',\n",
       "  'Outros',\n",
       "  'aliciagoncalves7@example.com',\n",
       "  5,\n",
       "  '2021-04-02 15:30:00')]"
      ]
     },
     "execution_count": 4,
     "metadata": {},
     "output_type": "execute_result"
    }
   ],
   "source": [
    "cursor.execute(\"SELECT * from accounts LIMIT 5\");\n",
    "cursor.fetchall()"
   ]
  },
  {
   "cell_type": "code",
   "execution_count": 5,
   "id": "2ecfb174-2395-4d15-8637-366b16fe52e4",
   "metadata": {},
   "outputs": [
    {
     "data": {
      "text/plain": [
       "[(1, 'RJ', 'Carmo', '2021-04-01 02:30:00'),\n",
       " (2, 'MG', 'Bertopolis', '2021-04-01 02:00:00'),\n",
       " (3, 'MG', 'Olaria', '2021-04-01 11:30:00'),\n",
       " (4, 'PR', 'Icaraima', '2021-04-01 14:30:00'),\n",
       " (5, 'ES', 'Ecoporanga', '2021-04-02 15:30:00')]"
      ]
     },
     "execution_count": 5,
     "metadata": {},
     "output_type": "execute_result"
    }
   ],
   "source": [
    "cursor.execute(\"SELECT * from address LIMIT 5\");\n",
    "cursor.fetchall()"
   ]
  },
  {
   "cell_type": "code",
   "execution_count": 6,
   "id": "97f34424-6882-4f4c-8a26-932325b96bbf",
   "metadata": {},
   "outputs": [
    {
     "data": {
      "text/plain": [
       "[(1, 155938, 'F', '2021-04-20 08:00:00'),\n",
       " (2, 747007, 'D', '2021-04-19 19:30:00'),\n",
       " (4, 66402, 'D', '2021-04-28 21:00:00'),\n",
       " (5, 277012, 'D', '2021-04-19 12:00:00'),\n",
       " (6, 228213, 'D', '2021-04-26 15:00:00')]"
      ]
     },
     "execution_count": 6,
     "metadata": {},
     "output_type": "execute_result"
    }
   ],
   "source": [
    "cursor.execute(\"SELECT * from levels LIMIT 5\");\n",
    "cursor.fetchall()"
   ]
  },
  {
   "cell_type": "code",
   "execution_count": 7,
   "id": "dcbb409a-f12f-4b26-9bf5-d82660bc9ef7",
   "metadata": {},
   "outputs": [
    {
     "data": {
      "text/plain": [
       "[(1, 155938, 'paid', 11992, '2021-04-01 03:00:00'),\n",
       " (2, 155938, 'paid', 9689, '2021-04-01 13:30:00'),\n",
       " (3, 155938, 'paid', 11579, '2021-04-01 11:30:00'),\n",
       " (4, 747007, 'unpaid', 3134, '2021-04-02 12:00:00'),\n",
       " (5, 747007, 'paid', 3085, '2021-04-02 19:00:00')]"
      ]
     },
     "execution_count": 7,
     "metadata": {},
     "output_type": "execute_result"
    }
   ],
   "source": [
    "cursor.execute(\"SELECT * from charges LIMIT 5\");\n",
    "cursor.fetchall()"
   ]
  },
  {
   "cell_type": "code",
   "execution_count": 8,
   "id": "482893e3-07c2-44eb-8384-1a52169e6ada",
   "metadata": {},
   "outputs": [
    {
     "data": {
      "text/plain": [
       "[(1, 155938, 1, 11992, '2021-04-01 03:00:00'),\n",
       " (2, 155938, 1, 9689, '2021-04-01 13:30:00'),\n",
       " (3, 155938, 1, 11579, '2021-04-01 11:30:00'),\n",
       " (4, 155938, 3, 11168, '2021-04-01 11:00:00'),\n",
       " (5, 155938, 3, 10772, '2021-04-01 21:00:00')]"
      ]
     },
     "execution_count": 8,
     "metadata": {},
     "output_type": "execute_result"
    }
   ],
   "source": [
    "cursor.execute(\"SELECT * from transactions LIMIT 5\");\n",
    "cursor.fetchall()"
   ]
  },
  {
   "cell_type": "code",
   "execution_count": 9,
   "id": "11347779-2732-4ea2-bb36-2ee32bef7469",
   "metadata": {},
   "outputs": [
    {
     "data": {
      "text/plain": [
       "[(1, 'boleto_recebido', 'BOLETO RECEBIDO PELO CLIENTE'),\n",
       " (2, 'pix_enviado', 'PIX ENVIADO PELO CLIENTE PARA UMA CONTA EXTERNA'),\n",
       " (3, 'pix_recebido', 'PIX RECEBIDO PELO CLIENTE')]"
      ]
     },
     "execution_count": 9,
     "metadata": {},
     "output_type": "execute_result"
    }
   ],
   "source": [
    "cursor.execute(\"SELECT * from transaction_type LIMIT 5\");\n",
    "cursor.fetchall()"
   ]
  },
  {
   "cell_type": "code",
   "execution_count": 10,
   "id": "e3b4e42b-af37-4f84-a7ae-9363a69904d2",
   "metadata": {},
   "outputs": [
    {
     "data": {
      "text/plain": [
       "[(1029,)]"
      ]
     },
     "execution_count": 10,
     "metadata": {},
     "output_type": "execute_result"
    }
   ],
   "source": [
    "cursor.execute('SELECT COUNT(DISTINCT(account_number)) from accounts');\n",
    "cursor.fetchall()\n",
    "# 1029 números de contas diferentes"
   ]
  },
  {
   "cell_type": "code",
   "execution_count": 11,
   "id": "c704cd95-3323-4183-ba6c-a8d3bd30281c",
   "metadata": {},
   "outputs": [
    {
     "data": {
      "text/plain": [
       "[(926,)]"
      ]
     },
     "execution_count": 11,
     "metadata": {},
     "output_type": "execute_result"
    }
   ],
   "source": [
    "cursor.execute('SELECT COUNT(DISTINCT(account_number)) from levels');\n",
    "cursor.fetchall()\n",
    "# 926 contas de clientes diferentes. Faltando 103. Sem classificação?"
   ]
  },
  {
   "cell_type": "code",
   "execution_count": 12,
   "id": "4b7fab36-ba4b-4252-b60b-1bcc0aa92342",
   "metadata": {},
   "outputs": [
    {
     "data": {
      "text/plain": [
       "[(154469,)]"
      ]
     },
     "execution_count": 12,
     "metadata": {},
     "output_type": "execute_result"
    }
   ],
   "source": [
    "# 154469 registros de emissões de boletos\n",
    "cursor.execute('SELECT COUNT(account_number) from charges');\n",
    "cursor.fetchall()"
   ]
  },
  {
   "cell_type": "code",
   "execution_count": 13,
   "id": "72135f1a-0d88-4672-b243-720b46be7ae2",
   "metadata": {},
   "outputs": [
    {
     "data": {
      "text/plain": [
       "[(880,)]"
      ]
     },
     "execution_count": 13,
     "metadata": {},
     "output_type": "execute_result"
    }
   ],
   "source": [
    "# apenas 880 números de contas diferentes na tabela de emissões de boletos\n",
    "cursor.execute('SELECT COUNT(DISTINCT(account_number)) from charges');\n",
    "cursor.fetchall()"
   ]
  },
  {
   "cell_type": "code",
   "execution_count": 14,
   "id": "03440822-ec82-4618-a99f-f20a43f7d638",
   "metadata": {},
   "outputs": [
    {
     "data": {
      "text/plain": [
       "[(256227,)]"
      ]
     },
     "execution_count": 14,
     "metadata": {},
     "output_type": "execute_result"
    }
   ],
   "source": [
    "# mais de 256 mil transações efetivadas\n",
    "cursor.execute('SELECT COUNT(account_number) from transactions');\n",
    "cursor.fetchall()"
   ]
  },
  {
   "cell_type": "code",
   "execution_count": 15,
   "id": "179b0fcc-47dc-457d-b005-58ea62f7ac36",
   "metadata": {},
   "outputs": [
    {
     "data": {
      "text/plain": [
       "[(880,)]"
      ]
     },
     "execution_count": 15,
     "metadata": {},
     "output_type": "execute_result"
    }
   ],
   "source": [
    "# apenas 880 contas únicas na tabela de registros de transações\n",
    "cursor.execute('SELECT COUNT(DISTINCT(account_number)) from transactions');\n",
    "cursor.fetchall()"
   ]
  },
  {
   "cell_type": "markdown",
   "id": "5a8a4106-530e-4e4a-ae6f-83c8c4ab0036",
   "metadata": {},
   "source": [
    "#### Outras consutas de apoio"
   ]
  },
  {
   "cell_type": "code",
   "execution_count": 16,
   "id": "bca19e58-1d86-4e01-80fb-a414aa64ced9",
   "metadata": {},
   "outputs": [
    {
     "data": {
      "text/plain": [
       "[(50, 'BA'),\n",
       " (62, 'ES'),\n",
       " (43, 'GO'),\n",
       " (261, 'MG'),\n",
       " (159, 'PR'),\n",
       " (80, 'RJ'),\n",
       " (45, 'SC'),\n",
       " (47, 'SP')]"
      ]
     },
     "execution_count": 16,
     "metadata": {},
     "output_type": "execute_result"
    }
   ],
   "source": [
    "# quantos cadastros por Estado?\n",
    "cursor.execute('SELECT COUNT(id), state FROM address GROUP BY state')\n",
    "cursor.fetchall()"
   ]
  },
  {
   "cell_type": "code",
   "execution_count": 17,
   "id": "18812207-937c-4462-b1e1-b27fea088b1b",
   "metadata": {},
   "outputs": [
    {
     "data": {
      "text/plain": [
       "[(35, 'A'), (75, 'B'), (264, 'C'), (348, 'D'), (204, 'F')]"
      ]
     },
     "execution_count": 17,
     "metadata": {},
     "output_type": "execute_result"
    }
   ],
   "source": [
    "# quantidade de contas por classificação\n",
    "cursor.execute('SELECT COUNT(id), level FROM levels GROUP BY level')\n",
    "cursor.fetchall()"
   ]
  },
  {
   "cell_type": "code",
   "execution_count": 18,
   "id": "c542bf30-14f9-4180-b270-17b9c8217e6e",
   "metadata": {},
   "outputs": [
    {
     "data": {
      "text/plain": [
       "[(999828, 'F'),\n",
       " (998440, 'F'),\n",
       " (998364, 'D'),\n",
       " (997838, 'F'),\n",
       " (995447, 'B'),\n",
       " (993473, 'C'),\n",
       " (991500, 'F'),\n",
       " (989906, 'F'),\n",
       " (989633, 'A'),\n",
       " (989281, 'C'),\n",
       " (987627, 'D'),\n",
       " (987153, 'C'),\n",
       " (986453, 'A'),\n",
       " (984920, 'C'),\n",
       " (984115, 'C'),\n",
       " (983735, 'C'),\n",
       " (983289, 'F'),\n",
       " (982741, 'D'),\n",
       " (982296, 'C'),\n",
       " (980845, 'F')]"
      ]
     },
     "execution_count": 18,
     "metadata": {},
     "output_type": "execute_result"
    }
   ],
   "source": [
    "# Contas com classificação\n",
    "cursor.execute('SELECT a.account_number, c.level FROM accounts as a \\\n",
    "                INNER JOIN levels as c ON a.account_number == c.account_number \\\n",
    "                ORDER BY a.account_number DESC LIMIT 20')\n",
    "cursor.fetchall()"
   ]
  },
  {
   "cell_type": "code",
   "execution_count": 19,
   "id": "92767f12-8bec-4bf0-950b-343baac4ae04",
   "metadata": {},
   "outputs": [
    {
     "data": {
      "text/plain": [
       "[(999828, 'F'),\n",
       " (998440, 'F'),\n",
       " (998364, 'D'),\n",
       " (997838, 'F'),\n",
       " (995447, 'B'),\n",
       " (993473, 'C'),\n",
       " (991500, 'F'),\n",
       " (989906, 'F'),\n",
       " (989633, 'A'),\n",
       " (989281, 'C'),\n",
       " (988259, None),\n",
       " (987627, 'D'),\n",
       " (987153, 'C'),\n",
       " (986453, 'A'),\n",
       " (984920, 'C'),\n",
       " (984115, 'C'),\n",
       " (983735, 'C'),\n",
       " (983289, 'F'),\n",
       " (982741, 'D'),\n",
       " (982296, 'C')]"
      ]
     },
     "execution_count": 19,
     "metadata": {},
     "output_type": "execute_result"
    }
   ],
   "source": [
    "# Contas com e sem classificação\n",
    "cursor.execute('SELECT a.account_number, c.level FROM accounts as a \\\n",
    "                LEFT JOIN levels as c ON a.account_number == c.account_number\\\n",
    "                ORDER BY a.account_number DESC LIMIT 20')\n",
    "cursor.fetchall()"
   ]
  },
  {
   "cell_type": "markdown",
   "id": "c2502174-948a-488c-a21f-d2f40b050c82",
   "metadata": {},
   "source": [
    "O Join abaixo agrupa as informações das tabelas: account - tabela account_number, levels - coluna level, buscando as contas com e sem classificação.\n",
    "Também agrupa através do account_number as operações nas tabelas charges - colunas status e value (emissões de boletos realizadas) e transactions - colunas transaction_type_id e value (transações efetivas).<br>\n",
    "A ideia é utilizar essas variáveis como requisitos de treinamento do modelo de ML."
   ]
  },
  {
   "cell_type": "code",
   "execution_count": 20,
   "id": "cd62e734-58ea-44a2-a8dd-6aa59283c860",
   "metadata": {},
   "outputs": [
    {
     "data": {
      "text/plain": [
       "[(155938, 'F', 'paid', 11992, 1, 9689),\n",
       " (155938, 'F', 'paid', 11992, 1, 9731),\n",
       " (155938, 'F', 'paid', 11992, 1, 10169),\n",
       " (155938, 'F', 'paid', 11992, 1, 10280),\n",
       " (155938, 'F', 'paid', 11992, 1, 10531),\n",
       " (155938, 'F', 'paid', 11992, 1, 10584),\n",
       " (155938, 'F', 'paid', 11992, 1, 10645),\n",
       " (155938, 'F', 'paid', 11992, 1, 10707),\n",
       " (155938, 'F', 'paid', 11992, 1, 10823),\n",
       " (155938, 'F', 'paid', 11992, 1, 10866)]"
      ]
     },
     "execution_count": 20,
     "metadata": {},
     "output_type": "execute_result"
    }
   ],
   "source": [
    "# Analisando os dados\n",
    "cursor.execute('SELECT a.account_number as conta, c.level as classificacao,t.status as status, t.value as valor_transacao, tt.transaction_type_id, tt.value as valor_cobranca\\\n",
    "                FROM ((accounts as a\\\n",
    "                LEFT JOIN levels as c ON a.account_number == c.account_number)\\\n",
    "                INNER JOIN charges as t ON a.account_number == t.account_number)\\\n",
    "                INNER JOIN transactions tt ON a.account_number == tt.account_number LIMIT 10')\n",
    "cursor.fetchall()"
   ]
  },
  {
   "cell_type": "code",
   "execution_count": 21,
   "id": "ac8403ea-6957-4937-8f66-3452e7007aae",
   "metadata": {},
   "outputs": [
    {
     "data": {
      "text/plain": [
       "[(988259, None, 'paid', 7109, 1, 7109),\n",
       " (988259, None, 'paid', 7109, 1, 7172),\n",
       " (988259, None, 'paid', 7109, 1, 7177),\n",
       " (988259, None, 'paid', 7109, 1, 7244),\n",
       " (988259, None, 'paid', 7109, 1, 7258),\n",
       " (988259, None, 'paid', 7109, 1, 7492),\n",
       " (988259, None, 'paid', 7109, 1, 7505),\n",
       " (988259, None, 'paid', 7109, 1, 7508),\n",
       " (988259, None, 'paid', 7109, 1, 7510),\n",
       " (988259, None, 'paid', 7109, 1, 7524)]"
      ]
     },
     "execution_count": 21,
     "metadata": {},
     "output_type": "execute_result"
    }
   ],
   "source": [
    "# seleção referente a conta 988259, sem valor de classificação.\n",
    "cursor.execute(\"SELECT a.account_number as conta, c.level as classificacao,t.status as status, t.value as valor_transacao, tt.transaction_type_id, tt.value as valor_cobranca\\\n",
    "                FROM ((accounts as a\\\n",
    "                LEFT JOIN levels as c ON a.account_number == c.account_number)\\\n",
    "                INNER JOIN charges as t ON a.account_number == t.account_number)\\\n",
    "                INNER JOIN transactions tt ON a.account_number == tt.account_number\\\n",
    "                WHERE a.account_number == 988259 LIMIT 10\")\n",
    "cursor.fetchall()"
   ]
  },
  {
   "cell_type": "markdown",
   "id": "d0f7db67-7a20-4528-bc57-43d02d3b4ae0",
   "metadata": {},
   "source": [
    "Utilizando o terminal e instruções do Sqlite3, foi possível exportar as 6 tabelas no formato csv.<br>\n",
    "Podemos utilizar várias técnicas, bibliotecas e linguagens de programação para fazer as análises: SQL, Spark e Python com Pandas.\n",
    "Decidi fazer as análises dos dados utilizando a biblioteca Pandas e Python.<br><br>\n",
    "A pasta consta 6 arquivos csv, cada uma referente a uma tabela."
   ]
  },
  {
   "cell_type": "code",
   "execution_count": 22,
   "id": "fb60c7ac-1485-49e9-b36b-140068e16e00",
   "metadata": {},
   "outputs": [
    {
     "data": {
      "text/html": [
       "<div>\n",
       "<style scoped>\n",
       "    .dataframe tbody tr th:only-of-type {\n",
       "        vertical-align: middle;\n",
       "    }\n",
       "\n",
       "    .dataframe tbody tr th {\n",
       "        vertical-align: top;\n",
       "    }\n",
       "\n",
       "    .dataframe thead th {\n",
       "        text-align: right;\n",
       "    }\n",
       "</style>\n",
       "<table border=\"1\" class=\"dataframe\">\n",
       "  <thead>\n",
       "    <tr style=\"text-align: right;\">\n",
       "      <th></th>\n",
       "      <th>id</th>\n",
       "      <th>account_number</th>\n",
       "      <th>occupation</th>\n",
       "      <th>email</th>\n",
       "      <th>address_id</th>\n",
       "      <th>created_at</th>\n",
       "    </tr>\n",
       "  </thead>\n",
       "  <tbody>\n",
       "    <tr>\n",
       "      <th>0</th>\n",
       "      <td>1</td>\n",
       "      <td>155938</td>\n",
       "      <td>Outros</td>\n",
       "      <td>mariaceciliaazevedo042@example.com</td>\n",
       "      <td>1</td>\n",
       "      <td>2021-04-01 02:30:00</td>\n",
       "    </tr>\n",
       "    <tr>\n",
       "      <th>1</th>\n",
       "      <td>2</td>\n",
       "      <td>747007</td>\n",
       "      <td>Corretor</td>\n",
       "      <td>ananunes3@example.com</td>\n",
       "      <td>2</td>\n",
       "      <td>2021-04-01 02:00:00</td>\n",
       "    </tr>\n",
       "    <tr>\n",
       "      <th>2</th>\n",
       "      <td>3</td>\n",
       "      <td>208404</td>\n",
       "      <td>Analista</td>\n",
       "      <td>luizfernandovieira@example.com</td>\n",
       "      <td>3</td>\n",
       "      <td>2021-04-01 11:30:00</td>\n",
       "    </tr>\n",
       "    <tr>\n",
       "      <th>3</th>\n",
       "      <td>4</td>\n",
       "      <td>66402</td>\n",
       "      <td>Investidor</td>\n",
       "      <td>gabriellynascimento6@example.com</td>\n",
       "      <td>4</td>\n",
       "      <td>2021-04-01 14:30:00</td>\n",
       "    </tr>\n",
       "    <tr>\n",
       "      <th>4</th>\n",
       "      <td>5</td>\n",
       "      <td>277012</td>\n",
       "      <td>Outros</td>\n",
       "      <td>aliciagoncalves7@example.com</td>\n",
       "      <td>5</td>\n",
       "      <td>2021-04-02 15:30:00</td>\n",
       "    </tr>\n",
       "  </tbody>\n",
       "</table>\n",
       "</div>"
      ],
      "text/plain": [
       "   id  account_number  occupation                               email  \\\n",
       "0   1          155938      Outros  mariaceciliaazevedo042@example.com   \n",
       "1   2          747007    Corretor               ananunes3@example.com   \n",
       "2   3          208404    Analista      luizfernandovieira@example.com   \n",
       "3   4           66402  Investidor    gabriellynascimento6@example.com   \n",
       "4   5          277012      Outros        aliciagoncalves7@example.com   \n",
       "\n",
       "   address_id           created_at  \n",
       "0           1  2021-04-01 02:30:00  \n",
       "1           2  2021-04-01 02:00:00  \n",
       "2           3  2021-04-01 11:30:00  \n",
       "3           4  2021-04-01 14:30:00  \n",
       "4           5  2021-04-02 15:30:00  "
      ]
     },
     "execution_count": 22,
     "metadata": {},
     "output_type": "execute_result"
    }
   ],
   "source": [
    "d1 = pd.read_csv('1_account.csv')\n",
    "d1.head()"
   ]
  },
  {
   "cell_type": "code",
   "execution_count": 23,
   "id": "4bac1ac9-8d05-4033-a2e4-2843b9b36fba",
   "metadata": {},
   "outputs": [
    {
     "data": {
      "text/html": [
       "<div>\n",
       "<style scoped>\n",
       "    .dataframe tbody tr th:only-of-type {\n",
       "        vertical-align: middle;\n",
       "    }\n",
       "\n",
       "    .dataframe tbody tr th {\n",
       "        vertical-align: top;\n",
       "    }\n",
       "\n",
       "    .dataframe thead th {\n",
       "        text-align: right;\n",
       "    }\n",
       "</style>\n",
       "<table border=\"1\" class=\"dataframe\">\n",
       "  <thead>\n",
       "    <tr style=\"text-align: right;\">\n",
       "      <th></th>\n",
       "      <th>id</th>\n",
       "      <th>state</th>\n",
       "      <th>city</th>\n",
       "    </tr>\n",
       "  </thead>\n",
       "  <tbody>\n",
       "    <tr>\n",
       "      <th>0</th>\n",
       "      <td>1</td>\n",
       "      <td>RJ</td>\n",
       "      <td>Carmo</td>\n",
       "    </tr>\n",
       "    <tr>\n",
       "      <th>1</th>\n",
       "      <td>2</td>\n",
       "      <td>MG</td>\n",
       "      <td>Bertopolis</td>\n",
       "    </tr>\n",
       "    <tr>\n",
       "      <th>2</th>\n",
       "      <td>3</td>\n",
       "      <td>MG</td>\n",
       "      <td>Olaria</td>\n",
       "    </tr>\n",
       "    <tr>\n",
       "      <th>3</th>\n",
       "      <td>4</td>\n",
       "      <td>PR</td>\n",
       "      <td>Icaraima</td>\n",
       "    </tr>\n",
       "    <tr>\n",
       "      <th>4</th>\n",
       "      <td>5</td>\n",
       "      <td>ES</td>\n",
       "      <td>Ecoporanga</td>\n",
       "    </tr>\n",
       "  </tbody>\n",
       "</table>\n",
       "</div>"
      ],
      "text/plain": [
       "   id state        city\n",
       "0   1    RJ       Carmo\n",
       "1   2    MG  Bertopolis\n",
       "2   3    MG      Olaria\n",
       "3   4    PR    Icaraima\n",
       "4   5    ES  Ecoporanga"
      ]
     },
     "execution_count": 23,
     "metadata": {},
     "output_type": "execute_result"
    }
   ],
   "source": [
    "d2 = pd.read_csv('2_address.csv')\n",
    "d2.head()"
   ]
  },
  {
   "cell_type": "code",
   "execution_count": 24,
   "id": "e3df34ef-c446-477c-bac9-99cb88192a24",
   "metadata": {},
   "outputs": [
    {
     "data": {
      "text/html": [
       "<div>\n",
       "<style scoped>\n",
       "    .dataframe tbody tr th:only-of-type {\n",
       "        vertical-align: middle;\n",
       "    }\n",
       "\n",
       "    .dataframe tbody tr th {\n",
       "        vertical-align: top;\n",
       "    }\n",
       "\n",
       "    .dataframe thead th {\n",
       "        text-align: right;\n",
       "    }\n",
       "</style>\n",
       "<table border=\"1\" class=\"dataframe\">\n",
       "  <thead>\n",
       "    <tr style=\"text-align: right;\">\n",
       "      <th></th>\n",
       "      <th>id</th>\n",
       "      <th>account_number</th>\n",
       "      <th>level</th>\n",
       "      <th>created_at</th>\n",
       "    </tr>\n",
       "  </thead>\n",
       "  <tbody>\n",
       "    <tr>\n",
       "      <th>0</th>\n",
       "      <td>1</td>\n",
       "      <td>155938</td>\n",
       "      <td>F</td>\n",
       "      <td>2021-04-20 08:00:00</td>\n",
       "    </tr>\n",
       "    <tr>\n",
       "      <th>1</th>\n",
       "      <td>2</td>\n",
       "      <td>747007</td>\n",
       "      <td>D</td>\n",
       "      <td>2021-04-19 19:30:00</td>\n",
       "    </tr>\n",
       "    <tr>\n",
       "      <th>2</th>\n",
       "      <td>4</td>\n",
       "      <td>66402</td>\n",
       "      <td>D</td>\n",
       "      <td>2021-04-28 21:00:00</td>\n",
       "    </tr>\n",
       "    <tr>\n",
       "      <th>3</th>\n",
       "      <td>5</td>\n",
       "      <td>277012</td>\n",
       "      <td>D</td>\n",
       "      <td>2021-04-19 12:00:00</td>\n",
       "    </tr>\n",
       "    <tr>\n",
       "      <th>4</th>\n",
       "      <td>6</td>\n",
       "      <td>228213</td>\n",
       "      <td>D</td>\n",
       "      <td>2021-04-26 15:00:00</td>\n",
       "    </tr>\n",
       "  </tbody>\n",
       "</table>\n",
       "</div>"
      ],
      "text/plain": [
       "   id  account_number level           created_at\n",
       "0   1          155938     F  2021-04-20 08:00:00\n",
       "1   2          747007     D  2021-04-19 19:30:00\n",
       "2   4           66402     D  2021-04-28 21:00:00\n",
       "3   5          277012     D  2021-04-19 12:00:00\n",
       "4   6          228213     D  2021-04-26 15:00:00"
      ]
     },
     "execution_count": 24,
     "metadata": {},
     "output_type": "execute_result"
    }
   ],
   "source": [
    "d3 = pd.read_csv('3_levels.csv')\n",
    "d3.head()"
   ]
  },
  {
   "cell_type": "code",
   "execution_count": 25,
   "id": "3119f59a-8a63-484b-8b06-41df31249424",
   "metadata": {},
   "outputs": [
    {
     "data": {
      "text/plain": [
       "<AxesSubplot:xlabel='level', ylabel='count'>"
      ]
     },
     "execution_count": 25,
     "metadata": {},
     "output_type": "execute_result"
    },
    {
     "data": {
      "image/png": "[encoded data removed]",
      "text/plain": [
       "<Figure size 432x288 with 1 Axes>"
      ]
     },
     "metadata": {
      "needs_background": "light"
     },
     "output_type": "display_data"
    }
   ],
   "source": [
    "sns.countplot(x=d3['level'])"
   ]
  },
  {
   "cell_type": "code",
   "execution_count": 26,
   "id": "b5a9b611-0525-4af5-b754-d55d3ada3069",
   "metadata": {},
   "outputs": [
    {
     "data": {
      "text/html": [
       "<div>\n",
       "<style scoped>\n",
       "    .dataframe tbody tr th:only-of-type {\n",
       "        vertical-align: middle;\n",
       "    }\n",
       "\n",
       "    .dataframe tbody tr th {\n",
       "        vertical-align: top;\n",
       "    }\n",
       "\n",
       "    .dataframe thead th {\n",
       "        text-align: right;\n",
       "    }\n",
       "</style>\n",
       "<table border=\"1\" class=\"dataframe\">\n",
       "  <thead>\n",
       "    <tr style=\"text-align: right;\">\n",
       "      <th></th>\n",
       "      <th>id</th>\n",
       "      <th>account_number</th>\n",
       "      <th>status</th>\n",
       "      <th>value</th>\n",
       "      <th>created_at</th>\n",
       "    </tr>\n",
       "  </thead>\n",
       "  <tbody>\n",
       "    <tr>\n",
       "      <th>0</th>\n",
       "      <td>1</td>\n",
       "      <td>155938</td>\n",
       "      <td>paid</td>\n",
       "      <td>11992</td>\n",
       "      <td>2021-04-01 03:00:00</td>\n",
       "    </tr>\n",
       "    <tr>\n",
       "      <th>1</th>\n",
       "      <td>2</td>\n",
       "      <td>155939</td>\n",
       "      <td>paid</td>\n",
       "      <td>11993</td>\n",
       "      <td>2021-04-01 03:00:01</td>\n",
       "    </tr>\n",
       "    <tr>\n",
       "      <th>2</th>\n",
       "      <td>3</td>\n",
       "      <td>155940</td>\n",
       "      <td>paid</td>\n",
       "      <td>11994</td>\n",
       "      <td>2021-04-01 03:00:02</td>\n",
       "    </tr>\n",
       "    <tr>\n",
       "      <th>3</th>\n",
       "      <td>4</td>\n",
       "      <td>155941</td>\n",
       "      <td>paid</td>\n",
       "      <td>11995</td>\n",
       "      <td>2021-04-01 03:00:03</td>\n",
       "    </tr>\n",
       "    <tr>\n",
       "      <th>4</th>\n",
       "      <td>5</td>\n",
       "      <td>155942</td>\n",
       "      <td>paid</td>\n",
       "      <td>11996</td>\n",
       "      <td>2021-04-01 03:00:04</td>\n",
       "    </tr>\n",
       "  </tbody>\n",
       "</table>\n",
       "</div>"
      ],
      "text/plain": [
       "   id  account_number status  value           created_at\n",
       "0   1          155938   paid  11992  2021-04-01 03:00:00\n",
       "1   2          155939   paid  11993  2021-04-01 03:00:01\n",
       "2   3          155940   paid  11994  2021-04-01 03:00:02\n",
       "3   4          155941   paid  11995  2021-04-01 03:00:03\n",
       "4   5          155942   paid  11996  2021-04-01 03:00:04"
      ]
     },
     "execution_count": 26,
     "metadata": {},
     "output_type": "execute_result"
    }
   ],
   "source": [
    "d4 = pd.read_csv('4_charges.csv')\n",
    "d4.head()"
   ]
  },
  {
   "cell_type": "code",
   "execution_count": 27,
   "id": "805dc1a9-59de-4f86-84ae-8a3360db38bc",
   "metadata": {},
   "outputs": [
    {
     "data": {
      "text/plain": [
       "<AxesSubplot:xlabel='status', ylabel='count'>"
      ]
     },
     "execution_count": 27,
     "metadata": {},
     "output_type": "execute_result"
    },
    {
     "data": {
      "image/png": "[encoded data removed]",
      "text/plain": [
       "<Figure size 432x288 with 1 Axes>"
      ]
     },
     "metadata": {
      "needs_background": "light"
     },
     "output_type": "display_data"
    }
   ],
   "source": [
    "sns.countplot(x=d4['status'])"
   ]
  },
  {
   "cell_type": "code",
   "execution_count": 28,
   "id": "0e8aa091-a7e9-479a-9c76-565ba55c9da5",
   "metadata": {},
   "outputs": [
    {
     "data": {
      "text/html": [
       "<div>\n",
       "<style scoped>\n",
       "    .dataframe tbody tr th:only-of-type {\n",
       "        vertical-align: middle;\n",
       "    }\n",
       "\n",
       "    .dataframe tbody tr th {\n",
       "        vertical-align: top;\n",
       "    }\n",
       "\n",
       "    .dataframe thead th {\n",
       "        text-align: right;\n",
       "    }\n",
       "</style>\n",
       "<table border=\"1\" class=\"dataframe\">\n",
       "  <thead>\n",
       "    <tr style=\"text-align: right;\">\n",
       "      <th></th>\n",
       "      <th>id</th>\n",
       "      <th>account_number</th>\n",
       "      <th>value</th>\n",
       "      <th>created_at</th>\n",
       "      <th>transaction_type_id_1</th>\n",
       "      <th>transaction_type_id_2</th>\n",
       "      <th>transaction_type_id_3</th>\n",
       "    </tr>\n",
       "  </thead>\n",
       "  <tbody>\n",
       "    <tr>\n",
       "      <th>0</th>\n",
       "      <td>1</td>\n",
       "      <td>155938</td>\n",
       "      <td>11992</td>\n",
       "      <td>2021-04-01 03:00:00</td>\n",
       "      <td>1</td>\n",
       "      <td>0</td>\n",
       "      <td>0</td>\n",
       "    </tr>\n",
       "    <tr>\n",
       "      <th>1</th>\n",
       "      <td>2</td>\n",
       "      <td>155938</td>\n",
       "      <td>9689</td>\n",
       "      <td>2021-04-01 13:30:00</td>\n",
       "      <td>1</td>\n",
       "      <td>0</td>\n",
       "      <td>0</td>\n",
       "    </tr>\n",
       "    <tr>\n",
       "      <th>2</th>\n",
       "      <td>3</td>\n",
       "      <td>155938</td>\n",
       "      <td>11579</td>\n",
       "      <td>2021-04-01 11:30:00</td>\n",
       "      <td>1</td>\n",
       "      <td>0</td>\n",
       "      <td>0</td>\n",
       "    </tr>\n",
       "    <tr>\n",
       "      <th>3</th>\n",
       "      <td>4</td>\n",
       "      <td>155938</td>\n",
       "      <td>11168</td>\n",
       "      <td>2021-04-01 11:00:00</td>\n",
       "      <td>0</td>\n",
       "      <td>0</td>\n",
       "      <td>1</td>\n",
       "    </tr>\n",
       "    <tr>\n",
       "      <th>4</th>\n",
       "      <td>5</td>\n",
       "      <td>155938</td>\n",
       "      <td>10772</td>\n",
       "      <td>2021-04-01 21:00:00</td>\n",
       "      <td>0</td>\n",
       "      <td>0</td>\n",
       "      <td>1</td>\n",
       "    </tr>\n",
       "  </tbody>\n",
       "</table>\n",
       "</div>"
      ],
      "text/plain": [
       "   id  account_number  value           created_at  transaction_type_id_1  \\\n",
       "0   1          155938  11992  2021-04-01 03:00:00                      1   \n",
       "1   2          155938   9689  2021-04-01 13:30:00                      1   \n",
       "2   3          155938  11579  2021-04-01 11:30:00                      1   \n",
       "3   4          155938  11168  2021-04-01 11:00:00                      0   \n",
       "4   5          155938  10772  2021-04-01 21:00:00                      0   \n",
       "\n",
       "   transaction_type_id_2  transaction_type_id_3  \n",
       "0                      0                      0  \n",
       "1                      0                      0  \n",
       "2                      0                      0  \n",
       "3                      0                      1  \n",
       "4                      0                      1  "
      ]
     },
     "execution_count": 28,
     "metadata": {},
     "output_type": "execute_result"
    }
   ],
   "source": [
    "d5 = pd.read_csv('5_transactions.csv')\n",
    "d5 = pd.get_dummies(d5, prefix = ['transaction_type_id'], columns = ['transaction_type_id'])\n",
    "d5.head()"
   ]
  },
  {
   "cell_type": "code",
   "execution_count": 29,
   "id": "30e4f199-78f3-467e-99e3-68aec92dfd69",
   "metadata": {},
   "outputs": [
    {
     "data": {
      "text/html": [
       "<div>\n",
       "<style scoped>\n",
       "    .dataframe tbody tr th:only-of-type {\n",
       "        vertical-align: middle;\n",
       "    }\n",
       "\n",
       "    .dataframe tbody tr th {\n",
       "        vertical-align: top;\n",
       "    }\n",
       "\n",
       "    .dataframe thead th {\n",
       "        text-align: right;\n",
       "    }\n",
       "</style>\n",
       "<table border=\"1\" class=\"dataframe\">\n",
       "  <thead>\n",
       "    <tr style=\"text-align: right;\">\n",
       "      <th></th>\n",
       "      <th>id</th>\n",
       "      <th>description</th>\n",
       "      <th>description_long</th>\n",
       "    </tr>\n",
       "  </thead>\n",
       "  <tbody>\n",
       "    <tr>\n",
       "      <th>0</th>\n",
       "      <td>1</td>\n",
       "      <td>boleto_recebido</td>\n",
       "      <td>BOLETO RECEBIDO PELO CLIENTE</td>\n",
       "    </tr>\n",
       "    <tr>\n",
       "      <th>1</th>\n",
       "      <td>2</td>\n",
       "      <td>pix_enviado</td>\n",
       "      <td>PIX ENVIADO PELO CLIENTE PARA UMA CONTA EXTERNA</td>\n",
       "    </tr>\n",
       "    <tr>\n",
       "      <th>2</th>\n",
       "      <td>3</td>\n",
       "      <td>pix_recebido</td>\n",
       "      <td>PIX RECEBIDO PELO CLIENTE</td>\n",
       "    </tr>\n",
       "  </tbody>\n",
       "</table>\n",
       "</div>"
      ],
      "text/plain": [
       "   id      description                                 description_long\n",
       "0   1  boleto_recebido                     BOLETO RECEBIDO PELO CLIENTE\n",
       "1   2      pix_enviado  PIX ENVIADO PELO CLIENTE PARA UMA CONTA EXTERNA\n",
       "2   3     pix_recebido                        PIX RECEBIDO PELO CLIENTE"
      ]
     },
     "execution_count": 29,
     "metadata": {},
     "output_type": "execute_result"
    }
   ],
   "source": [
    "d6 = pd.read_csv('6_transaction_type.csv')\n",
    "d6.head()"
   ]
  },
  {
   "cell_type": "markdown",
   "id": "17c82661-cd4a-429c-8a09-805cee146666",
   "metadata": {},
   "source": [
    "## -----------------------------"
   ]
  },
  {
   "cell_type": "code",
   "execution_count": 30,
   "id": "0eb21af0-ff15-4606-b373-d9c5409f07cf",
   "metadata": {},
   "outputs": [],
   "source": [
    "dat3 = pd.merge(d1,d3, on='account_number')"
   ]
  },
  {
   "cell_type": "code",
   "execution_count": 31,
   "id": "6e928237-212e-4b7f-b062-4482798fb6ff",
   "metadata": {},
   "outputs": [
    {
     "data": {
      "text/html": [
       "<div>\n",
       "<style scoped>\n",
       "    .dataframe tbody tr th:only-of-type {\n",
       "        vertical-align: middle;\n",
       "    }\n",
       "\n",
       "    .dataframe tbody tr th {\n",
       "        vertical-align: top;\n",
       "    }\n",
       "\n",
       "    .dataframe thead th {\n",
       "        text-align: right;\n",
       "    }\n",
       "</style>\n",
       "<table border=\"1\" class=\"dataframe\">\n",
       "  <thead>\n",
       "    <tr style=\"text-align: right;\">\n",
       "      <th></th>\n",
       "      <th>id_x</th>\n",
       "      <th>account_number</th>\n",
       "      <th>occupation</th>\n",
       "      <th>email</th>\n",
       "      <th>address_id</th>\n",
       "      <th>created_at_x</th>\n",
       "      <th>id_y</th>\n",
       "      <th>level</th>\n",
       "      <th>created_at_y</th>\n",
       "    </tr>\n",
       "  </thead>\n",
       "  <tbody>\n",
       "    <tr>\n",
       "      <th>0</th>\n",
       "      <td>1</td>\n",
       "      <td>155938</td>\n",
       "      <td>Outros</td>\n",
       "      <td>mariaceciliaazevedo042@example.com</td>\n",
       "      <td>1</td>\n",
       "      <td>2021-04-01 02:30:00</td>\n",
       "      <td>1</td>\n",
       "      <td>F</td>\n",
       "      <td>2021-04-20 08:00:00</td>\n",
       "    </tr>\n",
       "    <tr>\n",
       "      <th>1</th>\n",
       "      <td>2</td>\n",
       "      <td>747007</td>\n",
       "      <td>Corretor</td>\n",
       "      <td>ananunes3@example.com</td>\n",
       "      <td>2</td>\n",
       "      <td>2021-04-01 02:00:00</td>\n",
       "      <td>2</td>\n",
       "      <td>D</td>\n",
       "      <td>2021-04-19 19:30:00</td>\n",
       "    </tr>\n",
       "    <tr>\n",
       "      <th>2</th>\n",
       "      <td>4</td>\n",
       "      <td>66402</td>\n",
       "      <td>Investidor</td>\n",
       "      <td>gabriellynascimento6@example.com</td>\n",
       "      <td>4</td>\n",
       "      <td>2021-04-01 14:30:00</td>\n",
       "      <td>4</td>\n",
       "      <td>D</td>\n",
       "      <td>2021-04-28 21:00:00</td>\n",
       "    </tr>\n",
       "  </tbody>\n",
       "</table>\n",
       "</div>"
      ],
      "text/plain": [
       "   id_x  account_number  occupation                               email  \\\n",
       "0     1          155938      Outros  mariaceciliaazevedo042@example.com   \n",
       "1     2          747007    Corretor               ananunes3@example.com   \n",
       "2     4           66402  Investidor    gabriellynascimento6@example.com   \n",
       "\n",
       "   address_id         created_at_x  id_y level         created_at_y  \n",
       "0           1  2021-04-01 02:30:00     1     F  2021-04-20 08:00:00  \n",
       "1           2  2021-04-01 02:00:00     2     D  2021-04-19 19:30:00  \n",
       "2           4  2021-04-01 14:30:00     4     D  2021-04-28 21:00:00  "
      ]
     },
     "execution_count": 31,
     "metadata": {},
     "output_type": "execute_result"
    }
   ],
   "source": [
    "dat3.head(3)"
   ]
  },
  {
   "cell_type": "code",
   "execution_count": 32,
   "id": "da108846-6d79-4f16-a54d-4ce1560f72d6",
   "metadata": {},
   "outputs": [
    {
     "data": {
      "text/html": [
       "<div>\n",
       "<style scoped>\n",
       "    .dataframe tbody tr th:only-of-type {\n",
       "        vertical-align: middle;\n",
       "    }\n",
       "\n",
       "    .dataframe tbody tr th {\n",
       "        vertical-align: top;\n",
       "    }\n",
       "\n",
       "    .dataframe thead th {\n",
       "        text-align: right;\n",
       "    }\n",
       "</style>\n",
       "<table border=\"1\" class=\"dataframe\">\n",
       "  <thead>\n",
       "    <tr style=\"text-align: right;\">\n",
       "      <th></th>\n",
       "      <th>id_x</th>\n",
       "      <th>account_number</th>\n",
       "      <th>occupation</th>\n",
       "      <th>email</th>\n",
       "      <th>address_id</th>\n",
       "      <th>created_at_x</th>\n",
       "      <th>id_y</th>\n",
       "      <th>level</th>\n",
       "      <th>created_at_y</th>\n",
       "    </tr>\n",
       "  </thead>\n",
       "  <tbody>\n",
       "    <tr>\n",
       "      <th>0</th>\n",
       "      <td>1</td>\n",
       "      <td>155938</td>\n",
       "      <td>Outros</td>\n",
       "      <td>mariaceciliaazevedo042@example.com</td>\n",
       "      <td>1</td>\n",
       "      <td>2021-04-01 02:30:00</td>\n",
       "      <td>1.0</td>\n",
       "      <td>F</td>\n",
       "      <td>2021-04-20 08:00:00</td>\n",
       "    </tr>\n",
       "    <tr>\n",
       "      <th>1</th>\n",
       "      <td>2</td>\n",
       "      <td>747007</td>\n",
       "      <td>Corretor</td>\n",
       "      <td>ananunes3@example.com</td>\n",
       "      <td>2</td>\n",
       "      <td>2021-04-01 02:00:00</td>\n",
       "      <td>2.0</td>\n",
       "      <td>D</td>\n",
       "      <td>2021-04-19 19:30:00</td>\n",
       "    </tr>\n",
       "    <tr>\n",
       "      <th>2</th>\n",
       "      <td>3</td>\n",
       "      <td>208404</td>\n",
       "      <td>Analista</td>\n",
       "      <td>luizfernandovieira@example.com</td>\n",
       "      <td>3</td>\n",
       "      <td>2021-04-01 11:30:00</td>\n",
       "      <td>NaN</td>\n",
       "      <td>NaN</td>\n",
       "      <td>NaN</td>\n",
       "    </tr>\n",
       "  </tbody>\n",
       "</table>\n",
       "</div>"
      ],
      "text/plain": [
       "   id_x  account_number occupation                               email  \\\n",
       "0     1          155938     Outros  mariaceciliaazevedo042@example.com   \n",
       "1     2          747007   Corretor               ananunes3@example.com   \n",
       "2     3          208404   Analista      luizfernandovieira@example.com   \n",
       "\n",
       "   address_id         created_at_x  id_y level         created_at_y  \n",
       "0           1  2021-04-01 02:30:00   1.0     F  2021-04-20 08:00:00  \n",
       "1           2  2021-04-01 02:00:00   2.0     D  2021-04-19 19:30:00  \n",
       "2           3  2021-04-01 11:30:00   NaN   NaN                  NaN  "
      ]
     },
     "execution_count": 32,
     "metadata": {},
     "output_type": "execute_result"
    }
   ],
   "source": [
    "dat4 = pd.merge(d1,d3, on='account_number', how = 'left')\n",
    "dat4.head(3)"
   ]
  },
  {
   "cell_type": "code",
   "execution_count": 33,
   "id": "71590ede-b0c0-4651-8041-57e937850479",
   "metadata": {},
   "outputs": [],
   "source": [
    "dat4.drop(['occupation','email','address_id','created_at_x','id_y','created_at_y'], axis=1, inplace=True)"
   ]
  },
  {
   "cell_type": "code",
   "execution_count": 34,
   "id": "19253432-6cea-41d7-abdb-02d95a7f2c40",
   "metadata": {},
   "outputs": [
    {
     "data": {
      "text/html": [
       "<div>\n",
       "<style scoped>\n",
       "    .dataframe tbody tr th:only-of-type {\n",
       "        vertical-align: middle;\n",
       "    }\n",
       "\n",
       "    .dataframe tbody tr th {\n",
       "        vertical-align: top;\n",
       "    }\n",
       "\n",
       "    .dataframe thead th {\n",
       "        text-align: right;\n",
       "    }\n",
       "</style>\n",
       "<table border=\"1\" class=\"dataframe\">\n",
       "  <thead>\n",
       "    <tr style=\"text-align: right;\">\n",
       "      <th></th>\n",
       "      <th>id_x</th>\n",
       "      <th>account_number</th>\n",
       "      <th>level</th>\n",
       "    </tr>\n",
       "  </thead>\n",
       "  <tbody>\n",
       "    <tr>\n",
       "      <th>0</th>\n",
       "      <td>1</td>\n",
       "      <td>155938</td>\n",
       "      <td>F</td>\n",
       "    </tr>\n",
       "    <tr>\n",
       "      <th>1</th>\n",
       "      <td>2</td>\n",
       "      <td>747007</td>\n",
       "      <td>D</td>\n",
       "    </tr>\n",
       "    <tr>\n",
       "      <th>2</th>\n",
       "      <td>3</td>\n",
       "      <td>208404</td>\n",
       "      <td>NaN</td>\n",
       "    </tr>\n",
       "    <tr>\n",
       "      <th>3</th>\n",
       "      <td>4</td>\n",
       "      <td>66402</td>\n",
       "      <td>D</td>\n",
       "    </tr>\n",
       "  </tbody>\n",
       "</table>\n",
       "</div>"
      ],
      "text/plain": [
       "   id_x  account_number level\n",
       "0     1          155938     F\n",
       "1     2          747007     D\n",
       "2     3          208404   NaN\n",
       "3     4           66402     D"
      ]
     },
     "execution_count": 34,
     "metadata": {},
     "output_type": "execute_result"
    }
   ],
   "source": [
    "dat4.head(4)"
   ]
  },
  {
   "cell_type": "code",
   "execution_count": 35,
   "id": "af21e777-0fff-49dd-aa2a-088623f0d8b3",
   "metadata": {},
   "outputs": [
    {
     "data": {
      "text/html": [
       "<div>\n",
       "<style scoped>\n",
       "    .dataframe tbody tr th:only-of-type {\n",
       "        vertical-align: middle;\n",
       "    }\n",
       "\n",
       "    .dataframe tbody tr th {\n",
       "        vertical-align: top;\n",
       "    }\n",
       "\n",
       "    .dataframe thead th {\n",
       "        text-align: right;\n",
       "    }\n",
       "</style>\n",
       "<table border=\"1\" class=\"dataframe\">\n",
       "  <thead>\n",
       "    <tr style=\"text-align: right;\">\n",
       "      <th></th>\n",
       "      <th>id_x</th>\n",
       "      <th>account_number</th>\n",
       "      <th>level</th>\n",
       "    </tr>\n",
       "  </thead>\n",
       "  <tbody>\n",
       "    <tr>\n",
       "      <th>2</th>\n",
       "      <td>3</td>\n",
       "      <td>208404</td>\n",
       "      <td>NaN</td>\n",
       "    </tr>\n",
       "    <tr>\n",
       "      <th>6</th>\n",
       "      <td>7</td>\n",
       "      <td>108762</td>\n",
       "      <td>NaN</td>\n",
       "    </tr>\n",
       "    <tr>\n",
       "      <th>7</th>\n",
       "      <td>8</td>\n",
       "      <td>309054</td>\n",
       "      <td>NaN</td>\n",
       "    </tr>\n",
       "    <tr>\n",
       "      <th>8</th>\n",
       "      <td>9</td>\n",
       "      <td>89836</td>\n",
       "      <td>NaN</td>\n",
       "    </tr>\n",
       "    <tr>\n",
       "      <th>51</th>\n",
       "      <td>52</td>\n",
       "      <td>900180</td>\n",
       "      <td>NaN</td>\n",
       "    </tr>\n",
       "    <tr>\n",
       "      <th>...</th>\n",
       "      <td>...</td>\n",
       "      <td>...</td>\n",
       "      <td>...</td>\n",
       "    </tr>\n",
       "    <tr>\n",
       "      <th>977</th>\n",
       "      <td>978</td>\n",
       "      <td>905598</td>\n",
       "      <td>NaN</td>\n",
       "    </tr>\n",
       "    <tr>\n",
       "      <th>978</th>\n",
       "      <td>979</td>\n",
       "      <td>886210</td>\n",
       "      <td>NaN</td>\n",
       "    </tr>\n",
       "    <tr>\n",
       "      <th>993</th>\n",
       "      <td>994</td>\n",
       "      <td>583343</td>\n",
       "      <td>NaN</td>\n",
       "    </tr>\n",
       "    <tr>\n",
       "      <th>1008</th>\n",
       "      <td>1009</td>\n",
       "      <td>81888</td>\n",
       "      <td>NaN</td>\n",
       "    </tr>\n",
       "    <tr>\n",
       "      <th>1010</th>\n",
       "      <td>1011</td>\n",
       "      <td>354382</td>\n",
       "      <td>NaN</td>\n",
       "    </tr>\n",
       "  </tbody>\n",
       "</table>\n",
       "<p>103 rows × 3 columns</p>\n",
       "</div>"
      ],
      "text/plain": [
       "      id_x  account_number level\n",
       "2        3          208404   NaN\n",
       "6        7          108762   NaN\n",
       "7        8          309054   NaN\n",
       "8        9           89836   NaN\n",
       "51      52          900180   NaN\n",
       "...    ...             ...   ...\n",
       "977    978          905598   NaN\n",
       "978    979          886210   NaN\n",
       "993    994          583343   NaN\n",
       "1008  1009           81888   NaN\n",
       "1010  1011          354382   NaN\n",
       "\n",
       "[103 rows x 3 columns]"
      ]
     },
     "execution_count": 35,
     "metadata": {},
     "output_type": "execute_result"
    }
   ],
   "source": [
    "dat4.loc[dat4.level.isnull(),:]"
   ]
  },
  {
   "cell_type": "code",
   "execution_count": 36,
   "id": "dd505666-d763-47a2-8885-369f2a978cba",
   "metadata": {},
   "outputs": [
    {
     "data": {
      "text/html": [
       "<div>\n",
       "<style scoped>\n",
       "    .dataframe tbody tr th:only-of-type {\n",
       "        vertical-align: middle;\n",
       "    }\n",
       "\n",
       "    .dataframe tbody tr th {\n",
       "        vertical-align: top;\n",
       "    }\n",
       "\n",
       "    .dataframe thead th {\n",
       "        text-align: right;\n",
       "    }\n",
       "</style>\n",
       "<table border=\"1\" class=\"dataframe\">\n",
       "  <thead>\n",
       "    <tr style=\"text-align: right;\">\n",
       "      <th></th>\n",
       "      <th>id_x</th>\n",
       "      <th>account_number</th>\n",
       "      <th>level</th>\n",
       "    </tr>\n",
       "  </thead>\n",
       "  <tbody>\n",
       "    <tr>\n",
       "      <th>0</th>\n",
       "      <td>1</td>\n",
       "      <td>155938</td>\n",
       "      <td>F</td>\n",
       "    </tr>\n",
       "    <tr>\n",
       "      <th>1</th>\n",
       "      <td>2</td>\n",
       "      <td>747007</td>\n",
       "      <td>D</td>\n",
       "    </tr>\n",
       "    <tr>\n",
       "      <th>3</th>\n",
       "      <td>4</td>\n",
       "      <td>66402</td>\n",
       "      <td>D</td>\n",
       "    </tr>\n",
       "  </tbody>\n",
       "</table>\n",
       "</div>"
      ],
      "text/plain": [
       "   id_x  account_number level\n",
       "0     1          155938     F\n",
       "1     2          747007     D\n",
       "3     4           66402     D"
      ]
     },
     "execution_count": 36,
     "metadata": {},
     "output_type": "execute_result"
    }
   ],
   "source": [
    "dat4.dropna(axis=0, inplace = True)\n",
    "dat4.head(3)"
   ]
  },
  {
   "cell_type": "code",
   "execution_count": 37,
   "id": "8d958247-ecf8-4868-ab94-13caf96c5710",
   "metadata": {},
   "outputs": [
    {
     "data": {
      "text/html": [
       "<div>\n",
       "<style scoped>\n",
       "    .dataframe tbody tr th:only-of-type {\n",
       "        vertical-align: middle;\n",
       "    }\n",
       "\n",
       "    .dataframe tbody tr th {\n",
       "        vertical-align: top;\n",
       "    }\n",
       "\n",
       "    .dataframe thead th {\n",
       "        text-align: right;\n",
       "    }\n",
       "</style>\n",
       "<table border=\"1\" class=\"dataframe\">\n",
       "  <thead>\n",
       "    <tr style=\"text-align: right;\">\n",
       "      <th></th>\n",
       "      <th>id_x</th>\n",
       "      <th>account_number</th>\n",
       "      <th>level</th>\n",
       "      <th>id</th>\n",
       "      <th>status</th>\n",
       "      <th>value</th>\n",
       "      <th>created_at</th>\n",
       "    </tr>\n",
       "  </thead>\n",
       "  <tbody>\n",
       "    <tr>\n",
       "      <th>0</th>\n",
       "      <td>1</td>\n",
       "      <td>155938</td>\n",
       "      <td>F</td>\n",
       "      <td>1</td>\n",
       "      <td>paid</td>\n",
       "      <td>11992</td>\n",
       "      <td>2021-04-01 03:00:00</td>\n",
       "    </tr>\n",
       "    <tr>\n",
       "      <th>1</th>\n",
       "      <td>5</td>\n",
       "      <td>277012</td>\n",
       "      <td>D</td>\n",
       "      <td>121075</td>\n",
       "      <td>paid</td>\n",
       "      <td>133066</td>\n",
       "      <td>2021-04-01 03:00:121074</td>\n",
       "    </tr>\n",
       "    <tr>\n",
       "      <th>2</th>\n",
       "      <td>6</td>\n",
       "      <td>228213</td>\n",
       "      <td>D</td>\n",
       "      <td>72276</td>\n",
       "      <td>paid</td>\n",
       "      <td>84267</td>\n",
       "      <td>2021-04-01 03:00:72275</td>\n",
       "    </tr>\n",
       "  </tbody>\n",
       "</table>\n",
       "</div>"
      ],
      "text/plain": [
       "   id_x  account_number level      id status   value               created_at\n",
       "0     1          155938     F       1   paid   11992      2021-04-01 03:00:00\n",
       "1     5          277012     D  121075   paid  133066  2021-04-01 03:00:121074\n",
       "2     6          228213     D   72276   paid   84267   2021-04-01 03:00:72275"
      ]
     },
     "execution_count": 37,
     "metadata": {},
     "output_type": "execute_result"
    }
   ],
   "source": [
    "dat5 = pd.merge(dat4,d4, on='account_number')\n",
    "dat5.head(3)"
   ]
  },
  {
   "cell_type": "code",
   "execution_count": 38,
   "id": "4f36fe79-13b8-434f-bb6f-b8594f515442",
   "metadata": {},
   "outputs": [
    {
     "data": {
      "text/html": [
       "<div>\n",
       "<style scoped>\n",
       "    .dataframe tbody tr th:only-of-type {\n",
       "        vertical-align: middle;\n",
       "    }\n",
       "\n",
       "    .dataframe tbody tr th {\n",
       "        vertical-align: top;\n",
       "    }\n",
       "\n",
       "    .dataframe thead th {\n",
       "        text-align: right;\n",
       "    }\n",
       "</style>\n",
       "<table border=\"1\" class=\"dataframe\">\n",
       "  <thead>\n",
       "    <tr style=\"text-align: right;\">\n",
       "      <th></th>\n",
       "      <th>id_x</th>\n",
       "      <th>account_number_x</th>\n",
       "      <th>level</th>\n",
       "      <th>id</th>\n",
       "      <th>value_x</th>\n",
       "      <th>created_at_x</th>\n",
       "      <th>account_number_y</th>\n",
       "      <th>value_y</th>\n",
       "      <th>created_at_y</th>\n",
       "      <th>transaction_type_id_1</th>\n",
       "      <th>transaction_type_id_2</th>\n",
       "      <th>transaction_type_id_3</th>\n",
       "    </tr>\n",
       "  </thead>\n",
       "  <tbody>\n",
       "    <tr>\n",
       "      <th>0</th>\n",
       "      <td>1</td>\n",
       "      <td>155938</td>\n",
       "      <td>F</td>\n",
       "      <td>1</td>\n",
       "      <td>11992</td>\n",
       "      <td>2021-04-01 03:00:00</td>\n",
       "      <td>155938</td>\n",
       "      <td>11992</td>\n",
       "      <td>2021-04-01 03:00:00</td>\n",
       "      <td>1</td>\n",
       "      <td>0</td>\n",
       "      <td>0</td>\n",
       "    </tr>\n",
       "    <tr>\n",
       "      <th>1</th>\n",
       "      <td>5</td>\n",
       "      <td>277012</td>\n",
       "      <td>D</td>\n",
       "      <td>121075</td>\n",
       "      <td>133066</td>\n",
       "      <td>2021-04-01 03:00:121074</td>\n",
       "      <td>384771</td>\n",
       "      <td>8091</td>\n",
       "      <td>2021-05-29 12:30:00</td>\n",
       "      <td>0</td>\n",
       "      <td>0</td>\n",
       "      <td>1</td>\n",
       "    </tr>\n",
       "    <tr>\n",
       "      <th>2</th>\n",
       "      <td>6</td>\n",
       "      <td>228213</td>\n",
       "      <td>D</td>\n",
       "      <td>72276</td>\n",
       "      <td>84267</td>\n",
       "      <td>2021-04-01 03:00:72275</td>\n",
       "      <td>249793</td>\n",
       "      <td>7340</td>\n",
       "      <td>2021-05-13 22:00:00</td>\n",
       "      <td>0</td>\n",
       "      <td>0</td>\n",
       "      <td>1</td>\n",
       "    </tr>\n",
       "    <tr>\n",
       "      <th>3</th>\n",
       "      <td>13</td>\n",
       "      <td>222177</td>\n",
       "      <td>F</td>\n",
       "      <td>66240</td>\n",
       "      <td>78231</td>\n",
       "      <td>2021-04-01 03:00:66239</td>\n",
       "      <td>450789</td>\n",
       "      <td>5117</td>\n",
       "      <td>2021-05-11 20:30:00</td>\n",
       "      <td>0</td>\n",
       "      <td>0</td>\n",
       "      <td>1</td>\n",
       "    </tr>\n",
       "    <tr>\n",
       "      <th>4</th>\n",
       "      <td>31</td>\n",
       "      <td>253345</td>\n",
       "      <td>A</td>\n",
       "      <td>97408</td>\n",
       "      <td>109399</td>\n",
       "      <td>2021-04-01 03:00:97407</td>\n",
       "      <td>756365</td>\n",
       "      <td>4366</td>\n",
       "      <td>2021-05-22 17:00:00</td>\n",
       "      <td>0</td>\n",
       "      <td>0</td>\n",
       "      <td>1</td>\n",
       "    </tr>\n",
       "  </tbody>\n",
       "</table>\n",
       "</div>"
      ],
      "text/plain": [
       "   id_x  account_number_x level      id  value_x             created_at_x  \\\n",
       "0     1            155938     F       1    11992      2021-04-01 03:00:00   \n",
       "1     5            277012     D  121075   133066  2021-04-01 03:00:121074   \n",
       "2     6            228213     D   72276    84267   2021-04-01 03:00:72275   \n",
       "3    13            222177     F   66240    78231   2021-04-01 03:00:66239   \n",
       "4    31            253345     A   97408   109399   2021-04-01 03:00:97407   \n",
       "\n",
       "   account_number_y  value_y         created_at_y  transaction_type_id_1  \\\n",
       "0            155938    11992  2021-04-01 03:00:00                      1   \n",
       "1            384771     8091  2021-05-29 12:30:00                      0   \n",
       "2            249793     7340  2021-05-13 22:00:00                      0   \n",
       "3            450789     5117  2021-05-11 20:30:00                      0   \n",
       "4            756365     4366  2021-05-22 17:00:00                      0   \n",
       "\n",
       "   transaction_type_id_2  transaction_type_id_3  \n",
       "0                      0                      0  \n",
       "1                      0                      1  \n",
       "2                      0                      1  \n",
       "3                      0                      1  \n",
       "4                      0                      1  "
      ]
     },
     "execution_count": 38,
     "metadata": {},
     "output_type": "execute_result"
    }
   ],
   "source": [
    "dat6 = pd.merge(dat5,d5, on='id')\n",
    "dat6.drop(['status'], axis=1, inplace=True)\n",
    "dat6.head(5)"
   ]
  },
  {
   "cell_type": "code",
   "execution_count": 39,
   "id": "a5d335bb-4050-4db6-b4fc-23f4b18523f1",
   "metadata": {},
   "outputs": [
    {
     "data": {
      "text/plain": [
       "<AxesSubplot:xlabel='level', ylabel='count'>"
      ]
     },
     "execution_count": 39,
     "metadata": {},
     "output_type": "execute_result"
    },
    {
     "data": {
      "image/png": "[encoded data removed]",
      "text/plain": [
       "<Figure size 432x288 with 1 Axes>"
      ]
     },
     "metadata": {
      "needs_background": "light"
     },
     "output_type": "display_data"
    }
   ],
   "source": [
    "sns.countplot(x=dat6['level'])"
   ]
  },
  {
   "cell_type": "code",
   "execution_count": 40,
   "id": "60117b00-4923-4a4d-b2ca-63cdbcbb5917",
   "metadata": {},
   "outputs": [],
   "source": [
    "#def trata_csv(a,b,c,d):\n",
    "    \n",
    "# dataset com contas com classificacao\n",
    "dat3 = pd.merge(d1,d3, on='account_number')\n",
    "dat3.drop(['occupation','email','address_id','created_at_x','id_y','created_at_y'], axis=1, inplace=True)\n",
    "    \n",
    "# dataset apenas com conta sem classificaçao\n",
    "dat4 = pd.merge(d1,d3, on='account_number', how = 'left')\n",
    "dat4_sem_classificacao = dat4.copy()\n",
    "dat4_sem_classificacao.drop(['occupation','email','address_id','created_at_x','id_y','created_at_y'], axis=1, inplace=True)\n",
    "dat4_sem_classificacao.loc[dat4.level.isnull(),:]\n",
    "    \n",
    "# agrupando com a variável account_number as tabelas dat3 (junção de account com classificação) e charges\n",
    "dat5 = pd.merge(dat3,d4, on='account_number')\n",
    "    \n",
    "#\n",
    "dat6 = pd.merge(dat5,d5, on='id')\n",
    "dat6.drop(['status','created_at_x','created_at_y'], axis=1, inplace=True)"
   ]
  },
  {
   "cell_type": "code",
   "execution_count": 41,
   "id": "82fe9bc6-da2b-45c9-91bf-8aa1df0f2bdd",
   "metadata": {},
   "outputs": [
    {
     "data": {
      "text/html": [
       "<div>\n",
       "<style scoped>\n",
       "    .dataframe tbody tr th:only-of-type {\n",
       "        vertical-align: middle;\n",
       "    }\n",
       "\n",
       "    .dataframe tbody tr th {\n",
       "        vertical-align: top;\n",
       "    }\n",
       "\n",
       "    .dataframe thead th {\n",
       "        text-align: right;\n",
       "    }\n",
       "</style>\n",
       "<table border=\"1\" class=\"dataframe\">\n",
       "  <thead>\n",
       "    <tr style=\"text-align: right;\">\n",
       "      <th></th>\n",
       "      <th>id_x</th>\n",
       "      <th>account_number_x</th>\n",
       "      <th>level</th>\n",
       "      <th>id</th>\n",
       "      <th>value_x</th>\n",
       "      <th>account_number_y</th>\n",
       "      <th>value_y</th>\n",
       "      <th>transaction_type_id_1</th>\n",
       "      <th>transaction_type_id_2</th>\n",
       "      <th>transaction_type_id_3</th>\n",
       "    </tr>\n",
       "  </thead>\n",
       "  <tbody>\n",
       "    <tr>\n",
       "      <th>0</th>\n",
       "      <td>1</td>\n",
       "      <td>155938</td>\n",
       "      <td>F</td>\n",
       "      <td>1</td>\n",
       "      <td>11992</td>\n",
       "      <td>155938</td>\n",
       "      <td>11992</td>\n",
       "      <td>1</td>\n",
       "      <td>0</td>\n",
       "      <td>0</td>\n",
       "    </tr>\n",
       "    <tr>\n",
       "      <th>1</th>\n",
       "      <td>5</td>\n",
       "      <td>277012</td>\n",
       "      <td>D</td>\n",
       "      <td>121075</td>\n",
       "      <td>133066</td>\n",
       "      <td>384771</td>\n",
       "      <td>8091</td>\n",
       "      <td>0</td>\n",
       "      <td>0</td>\n",
       "      <td>1</td>\n",
       "    </tr>\n",
       "    <tr>\n",
       "      <th>2</th>\n",
       "      <td>6</td>\n",
       "      <td>228213</td>\n",
       "      <td>D</td>\n",
       "      <td>72276</td>\n",
       "      <td>84267</td>\n",
       "      <td>249793</td>\n",
       "      <td>7340</td>\n",
       "      <td>0</td>\n",
       "      <td>0</td>\n",
       "      <td>1</td>\n",
       "    </tr>\n",
       "    <tr>\n",
       "      <th>3</th>\n",
       "      <td>13</td>\n",
       "      <td>222177</td>\n",
       "      <td>F</td>\n",
       "      <td>66240</td>\n",
       "      <td>78231</td>\n",
       "      <td>450789</td>\n",
       "      <td>5117</td>\n",
       "      <td>0</td>\n",
       "      <td>0</td>\n",
       "      <td>1</td>\n",
       "    </tr>\n",
       "    <tr>\n",
       "      <th>4</th>\n",
       "      <td>31</td>\n",
       "      <td>253345</td>\n",
       "      <td>A</td>\n",
       "      <td>97408</td>\n",
       "      <td>109399</td>\n",
       "      <td>756365</td>\n",
       "      <td>4366</td>\n",
       "      <td>0</td>\n",
       "      <td>0</td>\n",
       "      <td>1</td>\n",
       "    </tr>\n",
       "  </tbody>\n",
       "</table>\n",
       "</div>"
      ],
      "text/plain": [
       "   id_x  account_number_x level      id  value_x  account_number_y  value_y  \\\n",
       "0     1            155938     F       1    11992            155938    11992   \n",
       "1     5            277012     D  121075   133066            384771     8091   \n",
       "2     6            228213     D   72276    84267            249793     7340   \n",
       "3    13            222177     F   66240    78231            450789     5117   \n",
       "4    31            253345     A   97408   109399            756365     4366   \n",
       "\n",
       "   transaction_type_id_1  transaction_type_id_2  transaction_type_id_3  \n",
       "0                      1                      0                      0  \n",
       "1                      0                      0                      1  \n",
       "2                      0                      0                      1  \n",
       "3                      0                      0                      1  \n",
       "4                      0                      0                      1  "
      ]
     },
     "execution_count": 41,
     "metadata": {},
     "output_type": "execute_result"
    }
   ],
   "source": [
    "dat6.head()"
   ]
  },
  {
   "cell_type": "markdown",
   "id": "557a63ac-b671-4400-aede-6ad0658789b9",
   "metadata": {},
   "source": [
    "# Preparando os datasets"
   ]
  },
  {
   "cell_type": "markdown",
   "id": "e3f81bc9-2995-4dc9-9ccd-dfb32c35f04e",
   "metadata": {},
   "source": [
    "### Dataset sem classificação"
   ]
  },
  {
   "cell_type": "code",
   "execution_count": 42,
   "id": "3365cd54-aa96-4c1a-897f-90ff10d02e6f",
   "metadata": {},
   "outputs": [],
   "source": [
    "dat_sem_classificacao = pd.DataFrame(dat4_sem_classificacao.loc[dat4.level.isnull(),:])\n",
    "dat7 = pd.merge(dat_sem_classificacao,d4, on='account_number')\n",
    "dat8 = pd.merge(dat7,d5, on='id')\n",
    "dat8.drop(['status','created_at_x','created_at_y'], axis=1, inplace=True)\n",
    "dat8.head()\n",
    "dat9 = dat8.copy()\n",
    "\n",
    "# Vamos renomear as variáveis e a coluna classificação\n",
    "dat9.rename(columns={'id_x':'id_x','account_number_x':'num_conta',\\\n",
    "                      'id':'id','value_y':'valor_cobranca','value_x':'valor_transacao',\\\n",
    "                      'account_number_y':'num_conta_y',\\\n",
    "                      'transaction_type_id_1':'boleto_recebido','transaction_type_id_2':'pix_enviado',\\\n",
    "                      'transaction_type_id_3':'pix_recebido','level':'classificacao'}, inplace=True)\n",
    "dat9 = dat9[['id_x','id','num_conta','num_conta_y','valor_cobranca','valor_transacao',\\\n",
    "             'boleto_recebido','pix_enviado','pix_recebido']]\n"
   ]
  },
  {
   "cell_type": "code",
   "execution_count": 43,
   "id": "63972b35-8c43-4eb9-a8d1-94aa4e664163",
   "metadata": {},
   "outputs": [
    {
     "data": {
      "text/html": [
       "<div>\n",
       "<style scoped>\n",
       "    .dataframe tbody tr th:only-of-type {\n",
       "        vertical-align: middle;\n",
       "    }\n",
       "\n",
       "    .dataframe tbody tr th {\n",
       "        vertical-align: top;\n",
       "    }\n",
       "\n",
       "    .dataframe thead th {\n",
       "        text-align: right;\n",
       "    }\n",
       "</style>\n",
       "<table border=\"1\" class=\"dataframe\">\n",
       "  <thead>\n",
       "    <tr style=\"text-align: right;\">\n",
       "      <th></th>\n",
       "      <th>id_x</th>\n",
       "      <th>id</th>\n",
       "      <th>num_conta</th>\n",
       "      <th>num_conta_y</th>\n",
       "      <th>valor_cobranca</th>\n",
       "      <th>valor_transacao</th>\n",
       "      <th>boleto_recebido</th>\n",
       "      <th>pix_enviado</th>\n",
       "      <th>pix_recebido</th>\n",
       "    </tr>\n",
       "  </thead>\n",
       "  <tbody>\n",
       "    <tr>\n",
       "      <th>0</th>\n",
       "      <td>3</td>\n",
       "      <td>52467</td>\n",
       "      <td>208404</td>\n",
       "      <td>8012</td>\n",
       "      <td>5864</td>\n",
       "      <td>64458</td>\n",
       "      <td>1</td>\n",
       "      <td>0</td>\n",
       "      <td>0</td>\n",
       "    </tr>\n",
       "    <tr>\n",
       "      <th>1</th>\n",
       "      <td>8</td>\n",
       "      <td>153117</td>\n",
       "      <td>309054</td>\n",
       "      <td>468531</td>\n",
       "      <td>3493</td>\n",
       "      <td>165108</td>\n",
       "      <td>1</td>\n",
       "      <td>0</td>\n",
       "      <td>0</td>\n",
       "    </tr>\n",
       "    <tr>\n",
       "      <th>2</th>\n",
       "      <td>86</td>\n",
       "      <td>23330</td>\n",
       "      <td>179267</td>\n",
       "      <td>567530</td>\n",
       "      <td>8772</td>\n",
       "      <td>35321</td>\n",
       "      <td>1</td>\n",
       "      <td>0</td>\n",
       "      <td>0</td>\n",
       "    </tr>\n",
       "    <tr>\n",
       "      <th>3</th>\n",
       "      <td>243</td>\n",
       "      <td>113824</td>\n",
       "      <td>269761</td>\n",
       "      <td>221895</td>\n",
       "      <td>5402</td>\n",
       "      <td>125815</td>\n",
       "      <td>0</td>\n",
       "      <td>0</td>\n",
       "      <td>1</td>\n",
       "    </tr>\n",
       "    <tr>\n",
       "      <th>4</th>\n",
       "      <td>265</td>\n",
       "      <td>3906</td>\n",
       "      <td>159843</td>\n",
       "      <td>201375</td>\n",
       "      <td>3773</td>\n",
       "      <td>15897</td>\n",
       "      <td>1</td>\n",
       "      <td>0</td>\n",
       "      <td>0</td>\n",
       "    </tr>\n",
       "  </tbody>\n",
       "</table>\n",
       "</div>"
      ],
      "text/plain": [
       "   id_x      id  num_conta  num_conta_y  valor_cobranca  valor_transacao  \\\n",
       "0     3   52467     208404         8012            5864            64458   \n",
       "1     8  153117     309054       468531            3493           165108   \n",
       "2    86   23330     179267       567530            8772            35321   \n",
       "3   243  113824     269761       221895            5402           125815   \n",
       "4   265    3906     159843       201375            3773            15897   \n",
       "\n",
       "   boleto_recebido  pix_enviado  pix_recebido  \n",
       "0                1            0             0  \n",
       "1                1            0             0  \n",
       "2                1            0             0  \n",
       "3                0            0             1  \n",
       "4                1            0             0  "
      ]
     },
     "execution_count": 43,
     "metadata": {},
     "output_type": "execute_result"
    }
   ],
   "source": [
    "dat9.head()"
   ]
  },
  {
   "cell_type": "markdown",
   "id": "8abf0be4-3a9a-4e1d-be74-d5379de0352b",
   "metadata": {},
   "source": [
    "### Dataset com classificação"
   ]
  },
  {
   "cell_type": "code",
   "execution_count": 44,
   "id": "803a8fa6-a975-4c5f-a4df-c8a28dfd4db2",
   "metadata": {},
   "outputs": [],
   "source": [
    "# Vamos renomear as variáveis e a coluna classificação\n",
    "dat6.rename(columns={'id_x':'id_x','account_number_x':'num_conta',\\\n",
    "                      'id':'id','value_y':'valor_cobranca','value_x':'valor_transacao',\\\n",
    "                      'account_number_y':'num_conta_y',\\\n",
    "                      'transaction_type_id_1':'boleto_recebido','transaction_type_id_2':'pix_enviado',\\\n",
    "                      'transaction_type_id_3':'pix_recebido','level':'classificacao'}, inplace=True)\n",
    "dat6 = dat6[['id_x','id','num_conta','num_conta_y','valor_cobranca','valor_transacao',\\\n",
    "             'boleto_recebido','pix_enviado','pix_recebido','classificacao']]\n",
    "l = []\n",
    "for x in dat6.classificacao:\n",
    "    if x == \"A\":\n",
    "        l.append(5)\n",
    "    if x == \"B\":\n",
    "        l.append(4)\n",
    "    if x == \"C\":\n",
    "        l.append(3)\n",
    "    if x == \"D\":\n",
    "        l.append(2)\n",
    "    if x == \"F\":\n",
    "        l.append(1)\n",
    "dat6['classificacao']=l"
   ]
  },
  {
   "cell_type": "code",
   "execution_count": 45,
   "id": "cca142ac-67db-43d4-aaa2-628851b717d6",
   "metadata": {},
   "outputs": [
    {
     "data": {
      "text/html": [
       "<div>\n",
       "<style scoped>\n",
       "    .dataframe tbody tr th:only-of-type {\n",
       "        vertical-align: middle;\n",
       "    }\n",
       "\n",
       "    .dataframe tbody tr th {\n",
       "        vertical-align: top;\n",
       "    }\n",
       "\n",
       "    .dataframe thead th {\n",
       "        text-align: right;\n",
       "    }\n",
       "</style>\n",
       "<table border=\"1\" class=\"dataframe\">\n",
       "  <thead>\n",
       "    <tr style=\"text-align: right;\">\n",
       "      <th></th>\n",
       "      <th>id_x</th>\n",
       "      <th>id</th>\n",
       "      <th>num_conta</th>\n",
       "      <th>num_conta_y</th>\n",
       "      <th>valor_cobranca</th>\n",
       "      <th>valor_transacao</th>\n",
       "      <th>boleto_recebido</th>\n",
       "      <th>pix_enviado</th>\n",
       "      <th>pix_recebido</th>\n",
       "      <th>classificacao</th>\n",
       "    </tr>\n",
       "  </thead>\n",
       "  <tbody>\n",
       "    <tr>\n",
       "      <th>0</th>\n",
       "      <td>1</td>\n",
       "      <td>1</td>\n",
       "      <td>155938</td>\n",
       "      <td>155938</td>\n",
       "      <td>11992</td>\n",
       "      <td>11992</td>\n",
       "      <td>1</td>\n",
       "      <td>0</td>\n",
       "      <td>0</td>\n",
       "      <td>1</td>\n",
       "    </tr>\n",
       "    <tr>\n",
       "      <th>1</th>\n",
       "      <td>5</td>\n",
       "      <td>121075</td>\n",
       "      <td>277012</td>\n",
       "      <td>384771</td>\n",
       "      <td>8091</td>\n",
       "      <td>133066</td>\n",
       "      <td>0</td>\n",
       "      <td>0</td>\n",
       "      <td>1</td>\n",
       "      <td>2</td>\n",
       "    </tr>\n",
       "    <tr>\n",
       "      <th>2</th>\n",
       "      <td>6</td>\n",
       "      <td>72276</td>\n",
       "      <td>228213</td>\n",
       "      <td>249793</td>\n",
       "      <td>7340</td>\n",
       "      <td>84267</td>\n",
       "      <td>0</td>\n",
       "      <td>0</td>\n",
       "      <td>1</td>\n",
       "      <td>2</td>\n",
       "    </tr>\n",
       "    <tr>\n",
       "      <th>3</th>\n",
       "      <td>13</td>\n",
       "      <td>66240</td>\n",
       "      <td>222177</td>\n",
       "      <td>450789</td>\n",
       "      <td>5117</td>\n",
       "      <td>78231</td>\n",
       "      <td>0</td>\n",
       "      <td>0</td>\n",
       "      <td>1</td>\n",
       "      <td>1</td>\n",
       "    </tr>\n",
       "    <tr>\n",
       "      <th>4</th>\n",
       "      <td>31</td>\n",
       "      <td>97408</td>\n",
       "      <td>253345</td>\n",
       "      <td>756365</td>\n",
       "      <td>4366</td>\n",
       "      <td>109399</td>\n",
       "      <td>0</td>\n",
       "      <td>0</td>\n",
       "      <td>1</td>\n",
       "      <td>5</td>\n",
       "    </tr>\n",
       "  </tbody>\n",
       "</table>\n",
       "</div>"
      ],
      "text/plain": [
       "   id_x      id  num_conta  num_conta_y  valor_cobranca  valor_transacao  \\\n",
       "0     1       1     155938       155938           11992            11992   \n",
       "1     5  121075     277012       384771            8091           133066   \n",
       "2     6   72276     228213       249793            7340            84267   \n",
       "3    13   66240     222177       450789            5117            78231   \n",
       "4    31   97408     253345       756365            4366           109399   \n",
       "\n",
       "   boleto_recebido  pix_enviado  pix_recebido  classificacao  \n",
       "0                1            0             0              1  \n",
       "1                0            0             1              2  \n",
       "2                0            0             1              2  \n",
       "3                0            0             1              1  \n",
       "4                0            0             1              5  "
      ]
     },
     "execution_count": 45,
     "metadata": {},
     "output_type": "execute_result"
    }
   ],
   "source": [
    "dat6.head() # dataset com classificação"
   ]
  },
  {
   "cell_type": "code",
   "execution_count": 46,
   "id": "91be79b0-306a-4fc2-b0ac-515eaac01015",
   "metadata": {},
   "outputs": [
    {
     "data": {
      "text/plain": [
       "2    62\n",
       "3    35\n",
       "1    25\n",
       "4     9\n",
       "5     5\n",
       "Name: classificacao, dtype: int64"
      ]
     },
     "execution_count": 46,
     "metadata": {},
     "output_type": "execute_result"
    }
   ],
   "source": [
    "dat6.classificacao.value_counts()"
   ]
  },
  {
   "cell_type": "code",
   "execution_count": 47,
   "id": "3da7a6f2-1fa4-4f04-9856-424892a9f39c",
   "metadata": {},
   "outputs": [
    {
     "data": {
      "text/html": [
       "<div>\n",
       "<style scoped>\n",
       "    .dataframe tbody tr th:only-of-type {\n",
       "        vertical-align: middle;\n",
       "    }\n",
       "\n",
       "    .dataframe tbody tr th {\n",
       "        vertical-align: top;\n",
       "    }\n",
       "\n",
       "    .dataframe thead th {\n",
       "        text-align: right;\n",
       "    }\n",
       "</style>\n",
       "<table border=\"1\" class=\"dataframe\">\n",
       "  <thead>\n",
       "    <tr style=\"text-align: right;\">\n",
       "      <th></th>\n",
       "      <th>id_x</th>\n",
       "      <th>id</th>\n",
       "      <th>num_conta</th>\n",
       "      <th>num_conta_y</th>\n",
       "      <th>valor_cobranca</th>\n",
       "      <th>valor_transacao</th>\n",
       "      <th>boleto_recebido</th>\n",
       "      <th>pix_enviado</th>\n",
       "      <th>pix_recebido</th>\n",
       "      <th>classificacao</th>\n",
       "      <th>fraude</th>\n",
       "    </tr>\n",
       "  </thead>\n",
       "  <tbody>\n",
       "    <tr>\n",
       "      <th>0</th>\n",
       "      <td>1</td>\n",
       "      <td>1</td>\n",
       "      <td>155938</td>\n",
       "      <td>155938</td>\n",
       "      <td>11992</td>\n",
       "      <td>11992</td>\n",
       "      <td>1</td>\n",
       "      <td>0</td>\n",
       "      <td>0</td>\n",
       "      <td>1</td>\n",
       "      <td>1</td>\n",
       "    </tr>\n",
       "    <tr>\n",
       "      <th>1</th>\n",
       "      <td>5</td>\n",
       "      <td>121075</td>\n",
       "      <td>277012</td>\n",
       "      <td>384771</td>\n",
       "      <td>8091</td>\n",
       "      <td>133066</td>\n",
       "      <td>0</td>\n",
       "      <td>0</td>\n",
       "      <td>1</td>\n",
       "      <td>2</td>\n",
       "      <td>0</td>\n",
       "    </tr>\n",
       "    <tr>\n",
       "      <th>2</th>\n",
       "      <td>6</td>\n",
       "      <td>72276</td>\n",
       "      <td>228213</td>\n",
       "      <td>249793</td>\n",
       "      <td>7340</td>\n",
       "      <td>84267</td>\n",
       "      <td>0</td>\n",
       "      <td>0</td>\n",
       "      <td>1</td>\n",
       "      <td>2</td>\n",
       "      <td>0</td>\n",
       "    </tr>\n",
       "    <tr>\n",
       "      <th>3</th>\n",
       "      <td>13</td>\n",
       "      <td>66240</td>\n",
       "      <td>222177</td>\n",
       "      <td>450789</td>\n",
       "      <td>5117</td>\n",
       "      <td>78231</td>\n",
       "      <td>0</td>\n",
       "      <td>0</td>\n",
       "      <td>1</td>\n",
       "      <td>1</td>\n",
       "      <td>1</td>\n",
       "    </tr>\n",
       "    <tr>\n",
       "      <th>4</th>\n",
       "      <td>31</td>\n",
       "      <td>97408</td>\n",
       "      <td>253345</td>\n",
       "      <td>756365</td>\n",
       "      <td>4366</td>\n",
       "      <td>109399</td>\n",
       "      <td>0</td>\n",
       "      <td>0</td>\n",
       "      <td>1</td>\n",
       "      <td>5</td>\n",
       "      <td>0</td>\n",
       "    </tr>\n",
       "  </tbody>\n",
       "</table>\n",
       "</div>"
      ],
      "text/plain": [
       "   id_x      id  num_conta  num_conta_y  valor_cobranca  valor_transacao  \\\n",
       "0     1       1     155938       155938           11992            11992   \n",
       "1     5  121075     277012       384771            8091           133066   \n",
       "2     6   72276     228213       249793            7340            84267   \n",
       "3    13   66240     222177       450789            5117            78231   \n",
       "4    31   97408     253345       756365            4366           109399   \n",
       "\n",
       "   boleto_recebido  pix_enviado  pix_recebido  classificacao  fraude  \n",
       "0                1            0             0              1       1  \n",
       "1                0            0             1              2       0  \n",
       "2                0            0             1              2       0  \n",
       "3                0            0             1              1       1  \n",
       "4                0            0             1              5       0  "
      ]
     },
     "execution_count": 47,
     "metadata": {},
     "output_type": "execute_result"
    }
   ],
   "source": [
    "# aplicando valor a variável fraude\n",
    "l3 = []\n",
    "for x in dat6.classificacao:\n",
    "    if x > 1:\n",
    "        l3.append(0)\n",
    "    else:\n",
    "        l3.append(1)\n",
    "dat6['fraude'] = l3\n",
    "dat6.head()"
   ]
  },
  {
   "cell_type": "markdown",
   "id": "ca677b05-ffbb-48ee-a62d-851358de20c5",
   "metadata": {},
   "source": [
    "# Aplicando Machine learning"
   ]
  },
  {
   "cell_type": "markdown",
   "id": "8c8e59f7-db2b-4f57-a789-6f9b8cd15733",
   "metadata": {},
   "source": [
    "### Treinando o modelo"
   ]
  },
  {
   "cell_type": "code",
   "execution_count": 75,
   "id": "d9986eef-ee1e-4675-a529-210706e11339",
   "metadata": {},
   "outputs": [
    {
     "data": {
      "text/html": [
       "<div>\n",
       "<style scoped>\n",
       "    .dataframe tbody tr th:only-of-type {\n",
       "        vertical-align: middle;\n",
       "    }\n",
       "\n",
       "    .dataframe tbody tr th {\n",
       "        vertical-align: top;\n",
       "    }\n",
       "\n",
       "    .dataframe thead th {\n",
       "        text-align: right;\n",
       "    }\n",
       "</style>\n",
       "<table border=\"1\" class=\"dataframe\">\n",
       "  <thead>\n",
       "    <tr style=\"text-align: right;\">\n",
       "      <th></th>\n",
       "      <th>id_x</th>\n",
       "      <th>id</th>\n",
       "      <th>num_conta</th>\n",
       "      <th>num_conta_y</th>\n",
       "      <th>valor_cobranca</th>\n",
       "      <th>valor_transacao</th>\n",
       "      <th>boleto_recebido</th>\n",
       "      <th>pix_enviado</th>\n",
       "      <th>pix_recebido</th>\n",
       "      <th>classificacao</th>\n",
       "      <th>fraude</th>\n",
       "    </tr>\n",
       "  </thead>\n",
       "  <tbody>\n",
       "    <tr>\n",
       "      <th>0</th>\n",
       "      <td>1</td>\n",
       "      <td>1</td>\n",
       "      <td>155938</td>\n",
       "      <td>155938</td>\n",
       "      <td>11992</td>\n",
       "      <td>11992</td>\n",
       "      <td>1</td>\n",
       "      <td>0</td>\n",
       "      <td>0</td>\n",
       "      <td>1</td>\n",
       "      <td>1</td>\n",
       "    </tr>\n",
       "    <tr>\n",
       "      <th>1</th>\n",
       "      <td>5</td>\n",
       "      <td>121075</td>\n",
       "      <td>277012</td>\n",
       "      <td>384771</td>\n",
       "      <td>8091</td>\n",
       "      <td>133066</td>\n",
       "      <td>0</td>\n",
       "      <td>0</td>\n",
       "      <td>1</td>\n",
       "      <td>2</td>\n",
       "      <td>0</td>\n",
       "    </tr>\n",
       "  </tbody>\n",
       "</table>\n",
       "</div>"
      ],
      "text/plain": [
       "   id_x      id  num_conta  num_conta_y  valor_cobranca  valor_transacao  \\\n",
       "0     1       1     155938       155938           11992            11992   \n",
       "1     5  121075     277012       384771            8091           133066   \n",
       "\n",
       "   boleto_recebido  pix_enviado  pix_recebido  classificacao  fraude  \n",
       "0                1            0             0              1       1  \n",
       "1                0            0             1              2       0  "
      ]
     },
     "execution_count": 75,
     "metadata": {},
     "output_type": "execute_result"
    }
   ],
   "source": [
    "dat6.head(2)"
   ]
  },
  {
   "cell_type": "code",
   "execution_count": 74,
   "id": "10891de8-d3cf-4d13-beca-0dd48f38abba",
   "metadata": {},
   "outputs": [],
   "source": [
    "from imblearn.over_sampling import SMOTE"
   ]
  },
  {
   "cell_type": "code",
   "execution_count": 78,
   "id": "1ed7c36f-b7c7-4875-83cd-6325ed1f6a51",
   "metadata": {},
   "outputs": [],
   "source": [
    "X1 = dat6.iloc[:,[4,5,6,7,8]].values\n",
    "y1 = dat6.iloc[:,10].values"
   ]
  },
  {
   "cell_type": "code",
   "execution_count": 79,
   "id": "4d094b30-5ffa-403c-ab26-c9b741e3c220",
   "metadata": {},
   "outputs": [],
   "source": [
    "smote = SMOTE(sampling_strategy='minority)\n",
    "X, y = smote.fit_resample(X1, y1)"
   ]
  },
  {
   "cell_type": "code",
   "execution_count": 80,
   "id": "18af79c7-8229-4b7f-8544-69d2ffb138a8",
   "metadata": {},
   "outputs": [
    {
     "data": {
      "text/plain": [
       "((array([0, 1]), array([111,  25])), (array([0, 1]), array([111, 111])))"
      ]
     },
     "execution_count": 82,
     "metadata": {},
     "output_type": "execute_result"
    }
   ],
   "source": [
    "np.unique(y1, return_counts=True), np.unique(y, return_counts=True)"
   ]
  },
  {
   "cell_type": "code",
   "execution_count": 70,
   "id": "c3f8dae1-f1dd-4a6b-997f-c340c0338e95",
   "metadata": {},
   "outputs": [],
   "source": [
    "#algoritmos\n",
    "from sklearn.model_selection import train_test_split\n",
    "from sklearn.linear_model import LogisticRegression\n",
    "from sklearn.neighbors import KNeighborsClassifier\n",
    "from sklearn.tree import DecisionTreeClassifier\n",
    "\n",
    "from sklearn.metrics import accuracy_score"
   ]
  },
  {
   "cell_type": "code",
   "execution_count": 71,
   "id": "d57131c9-08ca-4b1f-aede-804a90079ea7",
   "metadata": {},
   "outputs": [],
   "source": [
    "from sklearn.metrics import confusion_matrix\n",
    "from sklearn.metrics import precision_score, recall_score\n",
    "from sklearn.model_selection import train_test_split"
   ]
  },
  {
   "cell_type": "code",
   "execution_count": 72,
   "id": "8d7824bd-9bb1-4492-8dab-def482be1c27",
   "metadata": {},
   "outputs": [],
   "source": [
    "from sklearn.model_selection import train_test_split"
   ]
  },
  {
   "cell_type": "code",
   "execution_count": 98,
   "id": "04c3de22-6942-4cf6-a281-a86e416a144b",
   "metadata": {},
   "outputs": [],
   "source": [
    "Xtrain, Xtest, ytrain, ytest = train_test_split(X,y, test_size=0.3,random_state=142)"
   ]
  },
  {
   "cell_type": "code",
   "execution_count": 99,
   "id": "3ff2aa03-af9e-4044-bd99-516751b49658",
   "metadata": {},
   "outputs": [
    {
     "data": {
      "text/plain": [
       "((155, 5), (67, 5), (155,), (67,))"
      ]
     },
     "execution_count": 99,
     "metadata": {},
     "output_type": "execute_result"
    }
   ],
   "source": [
    "Xtrain.shape, Xtest.shape, ytrain.shape, ytest.shape"
   ]
  },
  {
   "cell_type": "code",
   "execution_count": 100,
   "id": "23073011-90e5-4551-bd9b-5df70b6516ff",
   "metadata": {},
   "outputs": [
    {
     "data": {
      "text/html": [
       "<style>#sk-container-id-5 {color: black;background-color: white;}#sk-container-id-5 pre{padding: 0;}#sk-container-id-5 div.sk-toggleable {background-color: white;}#sk-container-id-5 label.sk-toggleable__label {cursor: pointer;display: block;width: 100%;margin-bottom: 0;padding: 0.3em;box-sizing: border-box;text-align: center;}#sk-container-id-5 label.sk-toggleable__label-arrow:before {content: \"▸\";float: left;margin-right: 0.25em;color: #696969;}#sk-container-id-5 label.sk-toggleable__label-arrow:hover:before {color: black;}#sk-container-id-5 div.sk-estimator:hover label.sk-toggleable__label-arrow:before {color: black;}#sk-container-id-5 div.sk-toggleable__content {max-height: 0;max-width: 0;overflow: hidden;text-align: left;background-color: #f0f8ff;}#sk-container-id-5 div.sk-toggleable__content pre {margin: 0.2em;color: black;border-radius: 0.25em;background-color: #f0f8ff;}#sk-container-id-5 input.sk-toggleable__control:checked~div.sk-toggleable__content {max-height: 200px;max-width: 100%;overflow: auto;}#sk-container-id-5 input.sk-toggleable__control:checked~label.sk-toggleable__label-arrow:before {content: \"▾\";}#sk-container-id-5 div.sk-estimator input.sk-toggleable__control:checked~label.sk-toggleable__label {background-color: #d4ebff;}#sk-container-id-5 div.sk-label input.sk-toggleable__control:checked~label.sk-toggleable__label {background-color: #d4ebff;}#sk-container-id-5 input.sk-hidden--visually {border: 0;clip: rect(1px 1px 1px 1px);clip: rect(1px, 1px, 1px, 1px);height: 1px;margin: -1px;overflow: hidden;padding: 0;position: absolute;width: 1px;}#sk-container-id-5 div.sk-estimator {font-family: monospace;background-color: #f0f8ff;border: 1px dotted black;border-radius: 0.25em;box-sizing: border-box;margin-bottom: 0.5em;}#sk-container-id-5 div.sk-estimator:hover {background-color: #d4ebff;}#sk-container-id-5 div.sk-parallel-item::after {content: \"\";width: 100%;border-bottom: 1px solid gray;flex-grow: 1;}#sk-container-id-5 div.sk-label:hover label.sk-toggleable__label {background-color: #d4ebff;}#sk-container-id-5 div.sk-serial::before {content: \"\";position: absolute;border-left: 1px solid gray;box-sizing: border-box;top: 0;bottom: 0;left: 50%;z-index: 0;}#sk-container-id-5 div.sk-serial {display: flex;flex-direction: column;align-items: center;background-color: white;padding-right: 0.2em;padding-left: 0.2em;position: relative;}#sk-container-id-5 div.sk-item {position: relative;z-index: 1;}#sk-container-id-5 div.sk-parallel {display: flex;align-items: stretch;justify-content: center;background-color: white;position: relative;}#sk-container-id-5 div.sk-item::before, #sk-container-id-5 div.sk-parallel-item::before {content: \"\";position: absolute;border-left: 1px solid gray;box-sizing: border-box;top: 0;bottom: 0;left: 50%;z-index: -1;}#sk-container-id-5 div.sk-parallel-item {display: flex;flex-direction: column;z-index: 1;position: relative;background-color: white;}#sk-container-id-5 div.sk-parallel-item:first-child::after {align-self: flex-end;width: 50%;}#sk-container-id-5 div.sk-parallel-item:last-child::after {align-self: flex-start;width: 50%;}#sk-container-id-5 div.sk-parallel-item:only-child::after {width: 0;}#sk-container-id-5 div.sk-dashed-wrapped {border: 1px dashed gray;margin: 0 0.4em 0.5em 0.4em;box-sizing: border-box;padding-bottom: 0.4em;background-color: white;}#sk-container-id-5 div.sk-label label {font-family: monospace;font-weight: bold;display: inline-block;line-height: 1.2em;}#sk-container-id-5 div.sk-label-container {text-align: center;}#sk-container-id-5 div.sk-container {/* jupyter's `normalize.less` sets `[hidden] { display: none; }` but bootstrap.min.css set `[hidden] { display: none !important; }` so we also need the `!important` here to be able to override the default hidden behavior on the sphinx rendered scikit-learn.org. See: https://github.com/scikit-learn/scikit-learn/issues/21755 */display: inline-block !important;position: relative;}#sk-container-id-5 div.sk-text-repr-fallback {display: none;}</style><div id=\"sk-container-id-5\" class=\"sk-top-container\"><div class=\"sk-text-repr-fallback\"><pre>DecisionTreeClassifier()</pre><b>In a Jupyter environment, please rerun this cell to show the HTML representation or trust the notebook. <br />On GitHub, the HTML representation is unable to render, please try loading this page with nbviewer.org.</b></div><div class=\"sk-container\" hidden><div class=\"sk-item\"><div class=\"sk-estimator sk-toggleable\"><input class=\"sk-toggleable__control sk-hidden--visually\" id=\"sk-estimator-id-11\" type=\"checkbox\" checked><label for=\"sk-estimator-id-11\" class=\"sk-toggleable__label sk-toggleable__label-arrow\">DecisionTreeClassifier</label><div class=\"sk-toggleable__content\"><pre>DecisionTreeClassifier()</pre></div></div></div></div></div>"
      ],
      "text/plain": [
       "DecisionTreeClassifier()"
      ]
     },
     "execution_count": 100,
     "metadata": {},
     "output_type": "execute_result"
    }
   ],
   "source": [
    "#instanciando os modelos\n",
    "logreg = LogisticRegression()\n",
    "knn = KNeighborsClassifier()\n",
    "dt = DecisionTreeClassifier()\n",
    "\n",
    "#treinando os modelos\n",
    "logreg.fit(Xtrain, ytrain)\n",
    "knn.fit(Xtrain, ytrain)\n",
    "dt.fit(Xtrain, ytrain)"
   ]
  },
  {
   "cell_type": "code",
   "execution_count": 101,
   "id": "ff734d39-e4f2-48d3-be6f-935ff6f70167",
   "metadata": {},
   "outputs": [
    {
     "name": "stdout",
     "output_type": "stream",
     "text": [
      "lr  | acurácia:  0.5671641791044776\n",
      "knn  | acurácia:  0.6417910447761194\n",
      "dt  | acurácia:  0.8208955223880597\n"
     ]
    }
   ],
   "source": [
    "estimators = [('lr', logreg), ('knn', knn), ('dt', dt)]\n",
    "\n",
    "for est in estimators:\n",
    "    model_name = est[0]\n",
    "    model = est[1]\n",
    "    acuracia = accuracy_score(y_true = ytest, y_pred = model.predict(Xtest))\n",
    "    print(model_name, \" | acurácia: \", acuracia)"
   ]
  },
  {
   "cell_type": "code",
   "execution_count": 102,
   "id": "5cd500ba-c6bf-4ead-9b72-be77ea0c48cc",
   "metadata": {},
   "outputs": [],
   "source": [
    "from sklearn.ensemble import VotingClassifier"
   ]
  },
  {
   "cell_type": "code",
   "execution_count": 103,
   "id": "ca017d4e-9f4a-4e25-9b81-a3f3935cccc4",
   "metadata": {},
   "outputs": [
    {
     "data": {
      "text/html": [
       "<style>#sk-container-id-6 {color: black;background-color: white;}#sk-container-id-6 pre{padding: 0;}#sk-container-id-6 div.sk-toggleable {background-color: white;}#sk-container-id-6 label.sk-toggleable__label {cursor: pointer;display: block;width: 100%;margin-bottom: 0;padding: 0.3em;box-sizing: border-box;text-align: center;}#sk-container-id-6 label.sk-toggleable__label-arrow:before {content: \"▸\";float: left;margin-right: 0.25em;color: #696969;}#sk-container-id-6 label.sk-toggleable__label-arrow:hover:before {color: black;}#sk-container-id-6 div.sk-estimator:hover label.sk-toggleable__label-arrow:before {color: black;}#sk-container-id-6 div.sk-toggleable__content {max-height: 0;max-width: 0;overflow: hidden;text-align: left;background-color: #f0f8ff;}#sk-container-id-6 div.sk-toggleable__content pre {margin: 0.2em;color: black;border-radius: 0.25em;background-color: #f0f8ff;}#sk-container-id-6 input.sk-toggleable__control:checked~div.sk-toggleable__content {max-height: 200px;max-width: 100%;overflow: auto;}#sk-container-id-6 input.sk-toggleable__control:checked~label.sk-toggleable__label-arrow:before {content: \"▾\";}#sk-container-id-6 div.sk-estimator input.sk-toggleable__control:checked~label.sk-toggleable__label {background-color: #d4ebff;}#sk-container-id-6 div.sk-label input.sk-toggleable__control:checked~label.sk-toggleable__label {background-color: #d4ebff;}#sk-container-id-6 input.sk-hidden--visually {border: 0;clip: rect(1px 1px 1px 1px);clip: rect(1px, 1px, 1px, 1px);height: 1px;margin: -1px;overflow: hidden;padding: 0;position: absolute;width: 1px;}#sk-container-id-6 div.sk-estimator {font-family: monospace;background-color: #f0f8ff;border: 1px dotted black;border-radius: 0.25em;box-sizing: border-box;margin-bottom: 0.5em;}#sk-container-id-6 div.sk-estimator:hover {background-color: #d4ebff;}#sk-container-id-6 div.sk-parallel-item::after {content: \"\";width: 100%;border-bottom: 1px solid gray;flex-grow: 1;}#sk-container-id-6 div.sk-label:hover label.sk-toggleable__label {background-color: #d4ebff;}#sk-container-id-6 div.sk-serial::before {content: \"\";position: absolute;border-left: 1px solid gray;box-sizing: border-box;top: 0;bottom: 0;left: 50%;z-index: 0;}#sk-container-id-6 div.sk-serial {display: flex;flex-direction: column;align-items: center;background-color: white;padding-right: 0.2em;padding-left: 0.2em;position: relative;}#sk-container-id-6 div.sk-item {position: relative;z-index: 1;}#sk-container-id-6 div.sk-parallel {display: flex;align-items: stretch;justify-content: center;background-color: white;position: relative;}#sk-container-id-6 div.sk-item::before, #sk-container-id-6 div.sk-parallel-item::before {content: \"\";position: absolute;border-left: 1px solid gray;box-sizing: border-box;top: 0;bottom: 0;left: 50%;z-index: -1;}#sk-container-id-6 div.sk-parallel-item {display: flex;flex-direction: column;z-index: 1;position: relative;background-color: white;}#sk-container-id-6 div.sk-parallel-item:first-child::after {align-self: flex-end;width: 50%;}#sk-container-id-6 div.sk-parallel-item:last-child::after {align-self: flex-start;width: 50%;}#sk-container-id-6 div.sk-parallel-item:only-child::after {width: 0;}#sk-container-id-6 div.sk-dashed-wrapped {border: 1px dashed gray;margin: 0 0.4em 0.5em 0.4em;box-sizing: border-box;padding-bottom: 0.4em;background-color: white;}#sk-container-id-6 div.sk-label label {font-family: monospace;font-weight: bold;display: inline-block;line-height: 1.2em;}#sk-container-id-6 div.sk-label-container {text-align: center;}#sk-container-id-6 div.sk-container {/* jupyter's `normalize.less` sets `[hidden] { display: none; }` but bootstrap.min.css set `[hidden] { display: none !important; }` so we also need the `!important` here to be able to override the default hidden behavior on the sphinx rendered scikit-learn.org. See: https://github.com/scikit-learn/scikit-learn/issues/21755 */display: inline-block !important;position: relative;}#sk-container-id-6 div.sk-text-repr-fallback {display: none;}</style><div id=\"sk-container-id-6\" class=\"sk-top-container\"><div class=\"sk-text-repr-fallback\"><pre>VotingClassifier(estimators=[(&#x27;lr&#x27;, LogisticRegression()),\n",
       "                             (&#x27;knn&#x27;, KNeighborsClassifier()),\n",
       "                             (&#x27;dt&#x27;, DecisionTreeClassifier())])</pre><b>In a Jupyter environment, please rerun this cell to show the HTML representation or trust the notebook. <br />On GitHub, the HTML representation is unable to render, please try loading this page with nbviewer.org.</b></div><div class=\"sk-container\" hidden><div class=\"sk-item sk-dashed-wrapped\"><div class=\"sk-label-container\"><div class=\"sk-label sk-toggleable\"><input class=\"sk-toggleable__control sk-hidden--visually\" id=\"sk-estimator-id-12\" type=\"checkbox\" ><label for=\"sk-estimator-id-12\" class=\"sk-toggleable__label sk-toggleable__label-arrow\">VotingClassifier</label><div class=\"sk-toggleable__content\"><pre>VotingClassifier(estimators=[(&#x27;lr&#x27;, LogisticRegression()),\n",
       "                             (&#x27;knn&#x27;, KNeighborsClassifier()),\n",
       "                             (&#x27;dt&#x27;, DecisionTreeClassifier())])</pre></div></div></div><div class=\"sk-parallel\"><div class=\"sk-parallel-item\"><div class=\"sk-item\"><div class=\"sk-label-container\"><div class=\"sk-label sk-toggleable\"><label>lr</label></div></div><div class=\"sk-serial\"><div class=\"sk-item\"><div class=\"sk-estimator sk-toggleable\"><input class=\"sk-toggleable__control sk-hidden--visually\" id=\"sk-estimator-id-13\" type=\"checkbox\" ><label for=\"sk-estimator-id-13\" class=\"sk-toggleable__label sk-toggleable__label-arrow\">LogisticRegression</label><div class=\"sk-toggleable__content\"><pre>LogisticRegression()</pre></div></div></div></div></div></div><div class=\"sk-parallel-item\"><div class=\"sk-item\"><div class=\"sk-label-container\"><div class=\"sk-label sk-toggleable\"><label>knn</label></div></div><div class=\"sk-serial\"><div class=\"sk-item\"><div class=\"sk-estimator sk-toggleable\"><input class=\"sk-toggleable__control sk-hidden--visually\" id=\"sk-estimator-id-14\" type=\"checkbox\" ><label for=\"sk-estimator-id-14\" class=\"sk-toggleable__label sk-toggleable__label-arrow\">KNeighborsClassifier</label><div class=\"sk-toggleable__content\"><pre>KNeighborsClassifier()</pre></div></div></div></div></div></div><div class=\"sk-parallel-item\"><div class=\"sk-item\"><div class=\"sk-label-container\"><div class=\"sk-label sk-toggleable\"><label>dt</label></div></div><div class=\"sk-serial\"><div class=\"sk-item\"><div class=\"sk-estimator sk-toggleable\"><input class=\"sk-toggleable__control sk-hidden--visually\" id=\"sk-estimator-id-15\" type=\"checkbox\" ><label for=\"sk-estimator-id-15\" class=\"sk-toggleable__label sk-toggleable__label-arrow\">DecisionTreeClassifier</label><div class=\"sk-toggleable__content\"><pre>DecisionTreeClassifier()</pre></div></div></div></div></div></div></div></div></div></div>"
      ],
      "text/plain": [
       "VotingClassifier(estimators=[('lr', LogisticRegression()),\n",
       "                             ('knn', KNeighborsClassifier()),\n",
       "                             ('dt', DecisionTreeClassifier())])"
      ]
     },
     "execution_count": 103,
     "metadata": {},
     "output_type": "execute_result"
    }
   ],
   "source": [
    "voting = VotingClassifier(estimators = estimators)\n",
    "voting.fit(Xtrain, ytrain)"
   ]
  },
  {
   "cell_type": "code",
   "execution_count": 104,
   "id": "74ab8e0d-618d-47fb-9e3b-239b4a57bd53",
   "metadata": {},
   "outputs": [
    {
     "data": {
      "text/plain": [
       "0.7313432835820896"
      ]
     },
     "execution_count": 104,
     "metadata": {},
     "output_type": "execute_result"
    }
   ],
   "source": [
    "accuracy_score(y_true = ytest, y_pred = voting.predict(Xtest))"
   ]
  },
  {
   "cell_type": "markdown",
   "id": "6a0822b7-69fc-4053-a0b1-ff5ac0c321d7",
   "metadata": {},
   "source": [
    "### Outras métricas"
   ]
  },
  {
   "cell_type": "code",
   "execution_count": 105,
   "id": "f1fe267e-6a92-406f-957a-2dfe80268b02",
   "metadata": {},
   "outputs": [],
   "source": [
    "from sklearn.metrics import precision_score, recall_score\n",
    "from sklearn.metrics import confusion_matrix"
   ]
  },
  {
   "cell_type": "code",
   "execution_count": 106,
   "id": "f8fae69d-7431-4bac-be06-5483b3a60f2f",
   "metadata": {},
   "outputs": [
    {
     "data": {
      "text/plain": [
       "array([[33,  4],\n",
       "       [14, 16]])"
      ]
     },
     "execution_count": 106,
     "metadata": {},
     "output_type": "execute_result"
    }
   ],
   "source": [
    "confusion_matrix(y_true = ytest, y_pred = voting.predict(Xtest))"
   ]
  },
  {
   "cell_type": "code",
   "execution_count": 107,
   "id": "5e4c4fa9-b114-4e13-b928-784df9475e12",
   "metadata": {},
   "outputs": [
    {
     "name": "stdout",
     "output_type": "stream",
     "text": [
      "voting:\n",
      "Recall:  0.5333333333333333\n",
      "Precison:  0.8\n",
      "\n"
     ]
    }
   ],
   "source": [
    "print(\"voting:\")\n",
    "print('Recall: ', recall_score(y_true = ytest, y_pred = voting.predict(Xtest)))\n",
    "print('Precison: ', precision_score(y_true = ytest, y_pred = voting.predict(Xtest)))\n",
    "print()"
   ]
  },
  {
   "cell_type": "code",
   "execution_count": 108,
   "id": "2176a236-40f3-49cb-b2bd-af4ac96c5bc6",
   "metadata": {},
   "outputs": [],
   "source": [
    "from sklearn.metrics import f1_score"
   ]
  },
  {
   "cell_type": "code",
   "execution_count": 109,
   "id": "46d99241-4d8f-414f-acf5-530da6df6046",
   "metadata": {},
   "outputs": [
    {
     "name": "stdout",
     "output_type": "stream",
     "text": [
      "F1 Score - voting\": 0.64\n"
     ]
    }
   ],
   "source": [
    "print('F1 Score - voting\":',f1_score(y_true = ytest, y_pred = voting.predict(Xtest)))"
   ]
  },
  {
   "cell_type": "code",
   "execution_count": 110,
   "id": "1637c944-21d0-42e7-a400-03a94e990927",
   "metadata": {},
   "outputs": [],
   "source": [
    "from sklearn.metrics import roc_curve"
   ]
  },
  {
   "cell_type": "code",
   "execution_count": 111,
   "id": "e45f8e1b-b98c-4632-8d08-78ff39c1b986",
   "metadata": {},
   "outputs": [],
   "source": [
    "fpr, tpr, thresholds = roc_curve(y_true = ytest, y_score = voting.predict(Xtest)) "
   ]
  },
  {
   "cell_type": "code",
   "execution_count": 112,
   "id": "79923916-b019-44c0-97f7-c2435d0db55b",
   "metadata": {},
   "outputs": [
    {
     "data": {
      "image/png": "[encoded data removed]",
      "text/plain": [
       "<Figure size 576x432 with 1 Axes>"
      ]
     },
     "metadata": {
      "needs_background": "light"
     },
     "output_type": "display_data"
    }
   ],
   "source": [
    "plt.figure(figsize=[8,6])\n",
    "plt.plot(fpr, tpr, c = 'blue', lw = 2)\n",
    "plt.title(\"Curva ROC (dataset de teste)\", fontsize = 16, fontweight = 'bold')\n",
    "plt.xlabel(\"taxa de falso positivos\", fontsize = 14, fontweight = 'bold')\n",
    "plt.ylabel(\"taxa de verdadeiro positivos\", fontsize = 14, fontweight = 'bold')\n",
    "plt.plot([0, 1], [0, 1], 'k--') # Dashed diagonal\n",
    "plt.grid()\n",
    "plt.show()"
   ]
  },
  {
   "cell_type": "markdown",
   "id": "2ffd7edd-8f88-4523-9309-e8916615f763",
   "metadata": {},
   "source": [
    "### Conclusão:\n",
    "\n",
    "O modelo Voting ajudou a obter um melhor resultado para nossa previsão.<br>\n",
    "Utilizei várias métricas para avaliar a performance do modelo, se o mesmo está estimando bem os \n",
    "resultados.<br>\n",
    "Observando a métrica acurracy_score o resultado é de 73%. <br><br>\n",
    "Em média levamos 3 meses para realizar um projeto de ciência de dados com ML.<br>\n",
    "Nesses 5 dias foi possível desemvolver uma prova de conceito bem básica.<br><br>\n",
    "Para uma maior assertividade do modelo, é necessário sentar com o time de negócios e identificar outras variáveis que sejam interessantes e relevantes para a solução do problema. Também utilizar um maior número de registros possíveis."
   ]
  },
  {
   "cell_type": "markdown",
   "id": "c05897d4-6df2-4352-b1c4-11a9129bc33d",
   "metadata": {},
   "source": [
    "### Fazendo previsões no novo dataset"
   ]
  },
  {
   "cell_type": "code",
   "execution_count": 130,
   "id": "ad816c41-2696-4545-92b1-f119fe9f41de",
   "metadata": {},
   "outputs": [
    {
     "name": "stdout",
     "output_type": "stream",
     "text": [
      "<class 'pandas.core.frame.DataFrame'>\n",
      "Int64Index: 12 entries, 0 to 11\n",
      "Data columns (total 10 columns):\n",
      " #   Column           Non-Null Count  Dtype\n",
      "---  ------           --------------  -----\n",
      " 0   id_x             12 non-null     int64\n",
      " 1   id               12 non-null     int64\n",
      " 2   num_conta        12 non-null     int64\n",
      " 3   num_conta_y      12 non-null     int64\n",
      " 4   valor_cobranca   12 non-null     int64\n",
      " 5   valor_transacao  12 non-null     int64\n",
      " 6   boleto_recebido  12 non-null     uint8\n",
      " 7   pix_enviado      12 non-null     uint8\n",
      " 8   pix_recebido     12 non-null     uint8\n",
      " 9   fraude           12 non-null     int64\n",
      "dtypes: int64(7), uint8(3)\n",
      "memory usage: 804.0 bytes\n"
     ]
    }
   ],
   "source": [
    "dat9.info()"
   ]
  },
  {
   "cell_type": "code",
   "execution_count": 115,
   "id": "090ed5bc-1d97-470a-8641-1d38db3029f6",
   "metadata": {},
   "outputs": [
    {
     "data": {
      "text/html": [
       "<div>\n",
       "<style scoped>\n",
       "    .dataframe tbody tr th:only-of-type {\n",
       "        vertical-align: middle;\n",
       "    }\n",
       "\n",
       "    .dataframe tbody tr th {\n",
       "        vertical-align: top;\n",
       "    }\n",
       "\n",
       "    .dataframe thead th {\n",
       "        text-align: right;\n",
       "    }\n",
       "</style>\n",
       "<table border=\"1\" class=\"dataframe\">\n",
       "  <thead>\n",
       "    <tr style=\"text-align: right;\">\n",
       "      <th></th>\n",
       "      <th>id_x</th>\n",
       "      <th>id</th>\n",
       "      <th>num_conta</th>\n",
       "      <th>num_conta_y</th>\n",
       "      <th>valor_cobranca</th>\n",
       "      <th>valor_transacao</th>\n",
       "      <th>boleto_recebido</th>\n",
       "      <th>pix_enviado</th>\n",
       "      <th>pix_recebido</th>\n",
       "    </tr>\n",
       "  </thead>\n",
       "  <tbody>\n",
       "    <tr>\n",
       "      <th>0</th>\n",
       "      <td>3</td>\n",
       "      <td>52467</td>\n",
       "      <td>208404</td>\n",
       "      <td>8012</td>\n",
       "      <td>5864</td>\n",
       "      <td>64458</td>\n",
       "      <td>1</td>\n",
       "      <td>0</td>\n",
       "      <td>0</td>\n",
       "    </tr>\n",
       "    <tr>\n",
       "      <th>1</th>\n",
       "      <td>8</td>\n",
       "      <td>153117</td>\n",
       "      <td>309054</td>\n",
       "      <td>468531</td>\n",
       "      <td>3493</td>\n",
       "      <td>165108</td>\n",
       "      <td>1</td>\n",
       "      <td>0</td>\n",
       "      <td>0</td>\n",
       "    </tr>\n",
       "  </tbody>\n",
       "</table>\n",
       "</div>"
      ],
      "text/plain": [
       "   id_x      id  num_conta  num_conta_y  valor_cobranca  valor_transacao  \\\n",
       "0     3   52467     208404         8012            5864            64458   \n",
       "1     8  153117     309054       468531            3493           165108   \n",
       "\n",
       "   boleto_recebido  pix_enviado  pix_recebido  \n",
       "0                1            0             0  \n",
       "1                1            0             0  "
      ]
     },
     "execution_count": 115,
     "metadata": {},
     "output_type": "execute_result"
    }
   ],
   "source": [
    "dat9.head(2)"
   ]
  },
  {
   "cell_type": "code",
   "execution_count": 116,
   "id": "f812c7d7-8895-40d6-a635-927231826f2f",
   "metadata": {},
   "outputs": [],
   "source": [
    "X2 = dat9.iloc[:,[4,5,6,7,8]].values"
   ]
  },
  {
   "cell_type": "code",
   "execution_count": 126,
   "id": "b3085d04-0061-4f50-89ff-94a1c65132d8",
   "metadata": {},
   "outputs": [],
   "source": [
    "y_pred2 = voting.predict(X2)"
   ]
  },
  {
   "cell_type": "code",
   "execution_count": 127,
   "id": "9166d262-f1d5-4fbe-a09d-9e3a88004643",
   "metadata": {},
   "outputs": [],
   "source": [
    "dat9['fraude'] = y_pred2"
   ]
  },
  {
   "cell_type": "code",
   "execution_count": 132,
   "id": "bb87b60a-2706-405b-818b-109ed446a6a5",
   "metadata": {},
   "outputs": [
    {
     "data": {
      "text/html": [
       "<div>\n",
       "<style scoped>\n",
       "    .dataframe tbody tr th:only-of-type {\n",
       "        vertical-align: middle;\n",
       "    }\n",
       "\n",
       "    .dataframe tbody tr th {\n",
       "        vertical-align: top;\n",
       "    }\n",
       "\n",
       "    .dataframe thead th {\n",
       "        text-align: right;\n",
       "    }\n",
       "</style>\n",
       "<table border=\"1\" class=\"dataframe\">\n",
       "  <thead>\n",
       "    <tr style=\"text-align: right;\">\n",
       "      <th></th>\n",
       "      <th>id_x</th>\n",
       "      <th>id</th>\n",
       "      <th>num_conta</th>\n",
       "      <th>num_conta_y</th>\n",
       "      <th>valor_cobranca</th>\n",
       "      <th>valor_transacao</th>\n",
       "      <th>boleto_recebido</th>\n",
       "      <th>pix_enviado</th>\n",
       "      <th>pix_recebido</th>\n",
       "      <th>fraude</th>\n",
       "    </tr>\n",
       "  </thead>\n",
       "  <tbody>\n",
       "    <tr>\n",
       "      <th>0</th>\n",
       "      <td>3</td>\n",
       "      <td>52467</td>\n",
       "      <td>208404</td>\n",
       "      <td>8012</td>\n",
       "      <td>5864</td>\n",
       "      <td>64458</td>\n",
       "      <td>1</td>\n",
       "      <td>0</td>\n",
       "      <td>0</td>\n",
       "      <td>0</td>\n",
       "    </tr>\n",
       "    <tr>\n",
       "      <th>1</th>\n",
       "      <td>8</td>\n",
       "      <td>153117</td>\n",
       "      <td>309054</td>\n",
       "      <td>468531</td>\n",
       "      <td>3493</td>\n",
       "      <td>165108</td>\n",
       "      <td>1</td>\n",
       "      <td>0</td>\n",
       "      <td>0</td>\n",
       "      <td>0</td>\n",
       "    </tr>\n",
       "    <tr>\n",
       "      <th>2</th>\n",
       "      <td>86</td>\n",
       "      <td>23330</td>\n",
       "      <td>179267</td>\n",
       "      <td>567530</td>\n",
       "      <td>8772</td>\n",
       "      <td>35321</td>\n",
       "      <td>1</td>\n",
       "      <td>0</td>\n",
       "      <td>0</td>\n",
       "      <td>0</td>\n",
       "    </tr>\n",
       "    <tr>\n",
       "      <th>3</th>\n",
       "      <td>243</td>\n",
       "      <td>113824</td>\n",
       "      <td>269761</td>\n",
       "      <td>221895</td>\n",
       "      <td>5402</td>\n",
       "      <td>125815</td>\n",
       "      <td>0</td>\n",
       "      <td>0</td>\n",
       "      <td>1</td>\n",
       "      <td>0</td>\n",
       "    </tr>\n",
       "    <tr>\n",
       "      <th>4</th>\n",
       "      <td>265</td>\n",
       "      <td>3906</td>\n",
       "      <td>159843</td>\n",
       "      <td>201375</td>\n",
       "      <td>3773</td>\n",
       "      <td>15897</td>\n",
       "      <td>1</td>\n",
       "      <td>0</td>\n",
       "      <td>0</td>\n",
       "      <td>0</td>\n",
       "    </tr>\n",
       "    <tr>\n",
       "      <th>5</th>\n",
       "      <td>406</td>\n",
       "      <td>77936</td>\n",
       "      <td>233873</td>\n",
       "      <td>395522</td>\n",
       "      <td>4107</td>\n",
       "      <td>89927</td>\n",
       "      <td>0</td>\n",
       "      <td>0</td>\n",
       "      <td>1</td>\n",
       "      <td>0</td>\n",
       "    </tr>\n",
       "    <tr>\n",
       "      <th>6</th>\n",
       "      <td>436</td>\n",
       "      <td>67414</td>\n",
       "      <td>223351</td>\n",
       "      <td>675866</td>\n",
       "      <td>84602</td>\n",
       "      <td>79405</td>\n",
       "      <td>0</td>\n",
       "      <td>1</td>\n",
       "      <td>0</td>\n",
       "      <td>1</td>\n",
       "    </tr>\n",
       "    <tr>\n",
       "      <th>7</th>\n",
       "      <td>454</td>\n",
       "      <td>139903</td>\n",
       "      <td>295840</td>\n",
       "      <td>901716</td>\n",
       "      <td>8482</td>\n",
       "      <td>151894</td>\n",
       "      <td>1</td>\n",
       "      <td>0</td>\n",
       "      <td>0</td>\n",
       "      <td>0</td>\n",
       "    </tr>\n",
       "    <tr>\n",
       "      <th>8</th>\n",
       "      <td>518</td>\n",
       "      <td>92510</td>\n",
       "      <td>248447</td>\n",
       "      <td>295840</td>\n",
       "      <td>5251</td>\n",
       "      <td>104501</td>\n",
       "      <td>0</td>\n",
       "      <td>0</td>\n",
       "      <td>1</td>\n",
       "      <td>0</td>\n",
       "    </tr>\n",
       "    <tr>\n",
       "      <th>9</th>\n",
       "      <td>585</td>\n",
       "      <td>90928</td>\n",
       "      <td>246865</td>\n",
       "      <td>202217</td>\n",
       "      <td>5149</td>\n",
       "      <td>102919</td>\n",
       "      <td>1</td>\n",
       "      <td>0</td>\n",
       "      <td>0</td>\n",
       "      <td>0</td>\n",
       "    </tr>\n",
       "    <tr>\n",
       "      <th>10</th>\n",
       "      <td>630</td>\n",
       "      <td>90739</td>\n",
       "      <td>246676</td>\n",
       "      <td>535622</td>\n",
       "      <td>5608</td>\n",
       "      <td>102730</td>\n",
       "      <td>1</td>\n",
       "      <td>0</td>\n",
       "      <td>0</td>\n",
       "      <td>0</td>\n",
       "    </tr>\n",
       "    <tr>\n",
       "      <th>11</th>\n",
       "      <td>901</td>\n",
       "      <td>77973</td>\n",
       "      <td>233910</td>\n",
       "      <td>76284</td>\n",
       "      <td>154047</td>\n",
       "      <td>89964</td>\n",
       "      <td>0</td>\n",
       "      <td>1</td>\n",
       "      <td>0</td>\n",
       "      <td>0</td>\n",
       "    </tr>\n",
       "  </tbody>\n",
       "</table>\n",
       "</div>"
      ],
      "text/plain": [
       "    id_x      id  num_conta  num_conta_y  valor_cobranca  valor_transacao  \\\n",
       "0      3   52467     208404         8012            5864            64458   \n",
       "1      8  153117     309054       468531            3493           165108   \n",
       "2     86   23330     179267       567530            8772            35321   \n",
       "3    243  113824     269761       221895            5402           125815   \n",
       "4    265    3906     159843       201375            3773            15897   \n",
       "5    406   77936     233873       395522            4107            89927   \n",
       "6    436   67414     223351       675866           84602            79405   \n",
       "7    454  139903     295840       901716            8482           151894   \n",
       "8    518   92510     248447       295840            5251           104501   \n",
       "9    585   90928     246865       202217            5149           102919   \n",
       "10   630   90739     246676       535622            5608           102730   \n",
       "11   901   77973     233910        76284          154047            89964   \n",
       "\n",
       "    boleto_recebido  pix_enviado  pix_recebido  fraude  \n",
       "0                 1            0             0       0  \n",
       "1                 1            0             0       0  \n",
       "2                 1            0             0       0  \n",
       "3                 0            0             1       0  \n",
       "4                 1            0             0       0  \n",
       "5                 0            0             1       0  \n",
       "6                 0            1             0       1  \n",
       "7                 1            0             0       0  \n",
       "8                 0            0             1       0  \n",
       "9                 1            0             0       0  \n",
       "10                1            0             0       0  \n",
       "11                0            1             0       0  "
      ]
     },
     "execution_count": 132,
     "metadata": {},
     "output_type": "execute_result"
    }
   ],
   "source": [
    "dat9.head(12)"
   ]
  },
  {
   "cell_type": "code",
   "execution_count": 134,
   "id": "49c5c19f-3b5b-4fee-8dfc-a8f238d2b047",
   "metadata": {},
   "outputs": [
    {
     "data": {
      "text/plain": [
       "0    11\n",
       "1     1\n",
       "Name: fraude, dtype: int64"
      ]
     },
     "execution_count": 134,
     "metadata": {},
     "output_type": "execute_result"
    }
   ],
   "source": [
    "dat9.fraude.value_counts()"
   ]
  },
  {
   "cell_type": "code",
   "execution_count": null,
   "id": "20827428-7dae-4ab6-8838-a3e40da8d243",
   "metadata": {},
   "outputs": [],
   "source": [
    "O modelo estimou 1 fraude entre os 12 registros."
   ]
  }
 ],
 "metadata": {
  "kernelspec": {
   "display_name": "Python 3 (ipykernel)",
   "language": "python",
   "name": "python3"
  },
  "language_info": {
   "codemirror_mode": {
    "name": "ipython",
    "version": 3
   },
   "file_extension": ".py",
   "mimetype": "text/x-python",
   "name": "python",
   "nbconvert_exporter": "python",
   "pygments_lexer": "ipython3",
   "version": "3.9.12"
  }
 },
 "nbformat": 4,
 "nbformat_minor": 5
}
